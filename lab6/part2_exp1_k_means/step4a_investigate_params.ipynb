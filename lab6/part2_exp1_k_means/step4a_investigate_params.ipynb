{
 "cells": [
  {
   "cell_type": "code",
   "execution_count": 1,
   "metadata": {
    "tags": []
   },
   "outputs": [],
   "source": [
    "import numpy\n",
    "import pandas\n",
    "import joblib"
   ]
  },
  {
   "cell_type": "markdown",
   "metadata": {},
   "source": [
    "# Instructions\n",
    "\n",
    "- Read **the train data** from the CSV file and properly set the index\n",
    "- Use `joblib` to load the trained model and print out the model parameters\n",
    "- Put the model parameters in a DataFrame named `cluster_centers` with proper indices"
   ]
  },
  {
   "cell_type": "code",
   "execution_count": 2,
   "metadata": {
    "tags": []
   },
   "outputs": [
    {
     "data": {
      "text/html": [
       "<div>\n",
       "<style scoped>\n",
       "    .dataframe tbody tr th:only-of-type {\n",
       "        vertical-align: middle;\n",
       "    }\n",
       "\n",
       "    .dataframe tbody tr th {\n",
       "        vertical-align: top;\n",
       "    }\n",
       "\n",
       "    .dataframe thead th {\n",
       "        text-align: right;\n",
       "    }\n",
       "</style>\n",
       "<table border=\"1\" class=\"dataframe\">\n",
       "  <thead>\n",
       "    <tr style=\"text-align: right;\">\n",
       "      <th></th>\n",
       "      <th>feature_1</th>\n",
       "      <th>feature_2</th>\n",
       "    </tr>\n",
       "    <tr>\n",
       "      <th>id</th>\n",
       "      <th></th>\n",
       "      <th></th>\n",
       "    </tr>\n",
       "  </thead>\n",
       "  <tbody>\n",
       "    <tr>\n",
       "      <th>253</th>\n",
       "      <td>2.1592</td>\n",
       "      <td>0.0103</td>\n",
       "    </tr>\n",
       "    <tr>\n",
       "      <th>667</th>\n",
       "      <td>-5.1157</td>\n",
       "      <td>0.8180</td>\n",
       "    </tr>\n",
       "    <tr>\n",
       "      <th>85</th>\n",
       "      <td>1.8528</td>\n",
       "      <td>-0.0038</td>\n",
       "    </tr>\n",
       "    <tr>\n",
       "      <th>969</th>\n",
       "      <td>-6.3364</td>\n",
       "      <td>-1.9423</td>\n",
       "    </tr>\n",
       "    <tr>\n",
       "      <th>75</th>\n",
       "      <td>-5.8828</td>\n",
       "      <td>-2.6060</td>\n",
       "    </tr>\n",
       "    <tr>\n",
       "      <th>...</th>\n",
       "      <td>...</td>\n",
       "      <td>...</td>\n",
       "    </tr>\n",
       "    <tr>\n",
       "      <th>835</th>\n",
       "      <td>2.1841</td>\n",
       "      <td>0.0434</td>\n",
       "    </tr>\n",
       "    <tr>\n",
       "      <th>192</th>\n",
       "      <td>-8.5461</td>\n",
       "      <td>-8.3446</td>\n",
       "    </tr>\n",
       "    <tr>\n",
       "      <th>629</th>\n",
       "      <td>-7.6355</td>\n",
       "      <td>-6.3077</td>\n",
       "    </tr>\n",
       "    <tr>\n",
       "      <th>559</th>\n",
       "      <td>2.0941</td>\n",
       "      <td>1.1079</td>\n",
       "    </tr>\n",
       "    <tr>\n",
       "      <th>684</th>\n",
       "      <td>-8.9178</td>\n",
       "      <td>-4.2373</td>\n",
       "    </tr>\n",
       "  </tbody>\n",
       "</table>\n",
       "<p>750 rows × 2 columns</p>\n",
       "</div>"
      ],
      "text/plain": [
       "     feature_1  feature_2\n",
       "id                       \n",
       "253     2.1592     0.0103\n",
       "667    -5.1157     0.8180\n",
       "85      1.8528    -0.0038\n",
       "969    -6.3364    -1.9423\n",
       "75     -5.8828    -2.6060\n",
       "..         ...        ...\n",
       "835     2.1841     0.0434\n",
       "192    -8.5461    -8.3446\n",
       "629    -7.6355    -6.3077\n",
       "559     2.0941     1.1079\n",
       "684    -8.9178    -4.2373\n",
       "\n",
       "[750 rows x 2 columns]"
      ]
     },
     "execution_count": 2,
     "metadata": {},
     "output_type": "execute_result"
    }
   ],
   "source": [
    "data_train = pandas.read_csv('./data/features.train.csv').set_index('id')\n",
    "data_train"
   ]
  },
  {
   "cell_type": "code",
   "execution_count": 3,
   "metadata": {
    "tags": []
   },
   "outputs": [
    {
     "data": {
      "text/html": [
       "<style>#sk-container-id-1 {color: black;}#sk-container-id-1 pre{padding: 0;}#sk-container-id-1 div.sk-toggleable {background-color: white;}#sk-container-id-1 label.sk-toggleable__label {cursor: pointer;display: block;width: 100%;margin-bottom: 0;padding: 0.3em;box-sizing: border-box;text-align: center;}#sk-container-id-1 label.sk-toggleable__label-arrow:before {content: \"▸\";float: left;margin-right: 0.25em;color: #696969;}#sk-container-id-1 label.sk-toggleable__label-arrow:hover:before {color: black;}#sk-container-id-1 div.sk-estimator:hover label.sk-toggleable__label-arrow:before {color: black;}#sk-container-id-1 div.sk-toggleable__content {max-height: 0;max-width: 0;overflow: hidden;text-align: left;background-color: #f0f8ff;}#sk-container-id-1 div.sk-toggleable__content pre {margin: 0.2em;color: black;border-radius: 0.25em;background-color: #f0f8ff;}#sk-container-id-1 input.sk-toggleable__control:checked~div.sk-toggleable__content {max-height: 200px;max-width: 100%;overflow: auto;}#sk-container-id-1 input.sk-toggleable__control:checked~label.sk-toggleable__label-arrow:before {content: \"▾\";}#sk-container-id-1 div.sk-estimator input.sk-toggleable__control:checked~label.sk-toggleable__label {background-color: #d4ebff;}#sk-container-id-1 div.sk-label input.sk-toggleable__control:checked~label.sk-toggleable__label {background-color: #d4ebff;}#sk-container-id-1 input.sk-hidden--visually {border: 0;clip: rect(1px 1px 1px 1px);clip: rect(1px, 1px, 1px, 1px);height: 1px;margin: -1px;overflow: hidden;padding: 0;position: absolute;width: 1px;}#sk-container-id-1 div.sk-estimator {font-family: monospace;background-color: #f0f8ff;border: 1px dotted black;border-radius: 0.25em;box-sizing: border-box;margin-bottom: 0.5em;}#sk-container-id-1 div.sk-estimator:hover {background-color: #d4ebff;}#sk-container-id-1 div.sk-parallel-item::after {content: \"\";width: 100%;border-bottom: 1px solid gray;flex-grow: 1;}#sk-container-id-1 div.sk-label:hover label.sk-toggleable__label {background-color: #d4ebff;}#sk-container-id-1 div.sk-serial::before {content: \"\";position: absolute;border-left: 1px solid gray;box-sizing: border-box;top: 0;bottom: 0;left: 50%;z-index: 0;}#sk-container-id-1 div.sk-serial {display: flex;flex-direction: column;align-items: center;background-color: white;padding-right: 0.2em;padding-left: 0.2em;position: relative;}#sk-container-id-1 div.sk-item {position: relative;z-index: 1;}#sk-container-id-1 div.sk-parallel {display: flex;align-items: stretch;justify-content: center;background-color: white;position: relative;}#sk-container-id-1 div.sk-item::before, #sk-container-id-1 div.sk-parallel-item::before {content: \"\";position: absolute;border-left: 1px solid gray;box-sizing: border-box;top: 0;bottom: 0;left: 50%;z-index: -1;}#sk-container-id-1 div.sk-parallel-item {display: flex;flex-direction: column;z-index: 1;position: relative;background-color: white;}#sk-container-id-1 div.sk-parallel-item:first-child::after {align-self: flex-end;width: 50%;}#sk-container-id-1 div.sk-parallel-item:last-child::after {align-self: flex-start;width: 50%;}#sk-container-id-1 div.sk-parallel-item:only-child::after {width: 0;}#sk-container-id-1 div.sk-dashed-wrapped {border: 1px dashed gray;margin: 0 0.4em 0.5em 0.4em;box-sizing: border-box;padding-bottom: 0.4em;background-color: white;}#sk-container-id-1 div.sk-label label {font-family: monospace;font-weight: bold;display: inline-block;line-height: 1.2em;}#sk-container-id-1 div.sk-label-container {text-align: center;}#sk-container-id-1 div.sk-container {/* jupyter's `normalize.less` sets `[hidden] { display: none; }` but bootstrap.min.css set `[hidden] { display: none !important; }` so we also need the `!important` here to be able to override the default hidden behavior on the sphinx rendered scikit-learn.org. See: https://github.com/scikit-learn/scikit-learn/issues/21755 */display: inline-block !important;position: relative;}#sk-container-id-1 div.sk-text-repr-fallback {display: none;}</style><div id=\"sk-container-id-1\" class=\"sk-top-container\"><div class=\"sk-text-repr-fallback\"><pre>KMeans(init=&#x27;random&#x27;, n_clusters=3, random_state=0)</pre><b>In a Jupyter environment, please rerun this cell to show the HTML representation or trust the notebook. <br />On GitHub, the HTML representation is unable to render, please try loading this page with nbviewer.org.</b></div><div class=\"sk-container\" hidden><div class=\"sk-item\"><div class=\"sk-estimator sk-toggleable\"><input class=\"sk-toggleable__control sk-hidden--visually\" id=\"sk-estimator-id-1\" type=\"checkbox\" checked><label for=\"sk-estimator-id-1\" class=\"sk-toggleable__label sk-toggleable__label-arrow\">KMeans</label><div class=\"sk-toggleable__content\"><pre>KMeans(init=&#x27;random&#x27;, n_clusters=3, random_state=0)</pre></div></div></div></div></div>"
      ],
      "text/plain": [
       "KMeans(init='random', n_clusters=3, random_state=0)"
      ]
     },
     "execution_count": 3,
     "metadata": {},
     "output_type": "execute_result"
    }
   ],
   "source": [
    "model = joblib.load('model/model.joblib')\n",
    "model"
   ]
  },
  {
   "cell_type": "code",
   "execution_count": 4,
   "metadata": {
    "tags": []
   },
   "outputs": [
    {
     "name": "stdout",
     "output_type": "stream",
     "text": [
      "model.cluster_centers_:\n",
      " [[-4.84026432  0.107323  ]\n",
      " [-8.80518377 -5.36452868]\n",
      " [ 1.7568625   0.42275588]]\n"
     ]
    }
   ],
   "source": [
    "print(f\"model.cluster_centers_:\\n {model.cluster_centers_}\")"
   ]
  },
  {
   "cell_type": "code",
   "execution_count": 5,
   "metadata": {},
   "outputs": [
    {
     "data": {
      "text/html": [
       "<div>\n",
       "<style scoped>\n",
       "    .dataframe tbody tr th:only-of-type {\n",
       "        vertical-align: middle;\n",
       "    }\n",
       "\n",
       "    .dataframe tbody tr th {\n",
       "        vertical-align: top;\n",
       "    }\n",
       "\n",
       "    .dataframe thead th {\n",
       "        text-align: right;\n",
       "    }\n",
       "</style>\n",
       "<table border=\"1\" class=\"dataframe\">\n",
       "  <thead>\n",
       "    <tr style=\"text-align: right;\">\n",
       "      <th></th>\n",
       "      <th>feature_1</th>\n",
       "      <th>feature_2</th>\n",
       "    </tr>\n",
       "    <tr>\n",
       "      <th>cluster</th>\n",
       "      <th></th>\n",
       "      <th></th>\n",
       "    </tr>\n",
       "  </thead>\n",
       "  <tbody>\n",
       "    <tr>\n",
       "      <th>0</th>\n",
       "      <td>-4.840264</td>\n",
       "      <td>0.107323</td>\n",
       "    </tr>\n",
       "    <tr>\n",
       "      <th>1</th>\n",
       "      <td>-8.805184</td>\n",
       "      <td>-5.364529</td>\n",
       "    </tr>\n",
       "    <tr>\n",
       "      <th>2</th>\n",
       "      <td>1.756862</td>\n",
       "      <td>0.422756</td>\n",
       "    </tr>\n",
       "  </tbody>\n",
       "</table>\n",
       "</div>"
      ],
      "text/plain": [
       "         feature_1  feature_2\n",
       "cluster                      \n",
       "0        -4.840264   0.107323\n",
       "1        -8.805184  -5.364529\n",
       "2         1.756862   0.422756"
      ]
     },
     "execution_count": 5,
     "metadata": {},
     "output_type": "execute_result"
    }
   ],
   "source": [
    "cluster_centers = pandas.DataFrame(\n",
    "    model.cluster_centers_,\n",
    "    columns = ['feature_1', 'feature_2'],\n",
    ")\n",
    "cluster_centers.index.name = 'cluster'\n",
    "cluster_centers"
   ]
  },
  {
   "cell_type": "markdown",
   "metadata": {},
   "source": [
    "# Instructions\n",
    "- Use `.predict` to calculate clusters for all training samples\n",
    "- Properly put the clusters into `pandas.DataFrame`, with a column named `cluster`"
   ]
  },
  {
   "cell_type": "code",
   "execution_count": 6,
   "metadata": {
    "tags": []
   },
   "outputs": [
    {
     "data": {
      "text/plain": [
       "array([2, 0, 2, 0, 0, 1, 1, 1, 1, 2, 0, 1, 2, 2, 2, 1, 1, 2, 0, 1, 2, 1,\n",
       "       2, 1, 2, 0, 2, 1, 2, 0, 2, 1, 1, 1, 2, 0, 2, 1, 2, 0, 2, 1, 0, 0,\n",
       "       1, 2, 0, 1, 2, 1, 1, 1, 1, 2, 0, 1, 2, 0, 1, 2, 1, 0, 2, 0, 0, 2,\n",
       "       2, 0, 2, 0, 2, 1, 2, 2, 1, 0, 0, 0, 2, 0, 0, 1, 0, 1, 2, 0, 2, 0,\n",
       "       0, 0, 0, 1, 0, 0, 1, 1, 2, 1, 1, 2, 2, 2, 0, 1, 1, 1, 2, 1, 0, 2,\n",
       "       1, 1, 2, 1, 1, 2, 2, 1, 0, 2, 1, 2, 1, 2, 0, 0, 2, 0, 1, 2, 1, 0,\n",
       "       0, 1, 0, 0, 1, 2, 0, 0, 1, 2, 1, 2, 0, 2, 2, 1, 0, 2, 0, 1, 0, 2,\n",
       "       0, 0, 0, 1, 2, 2, 1, 0, 1, 1, 1, 0, 0, 2, 2, 1, 0, 2, 1, 2, 1, 1,\n",
       "       0, 2, 0, 1, 1, 1, 0, 0, 0, 2, 1, 2, 1, 2, 2, 1, 1, 1, 1, 2, 1, 1,\n",
       "       2, 2, 0, 1, 0, 2, 1, 1, 1, 1, 0, 0, 1, 0, 2, 0, 2, 2, 1, 2, 1, 0,\n",
       "       0, 1, 0, 2, 2, 0, 1, 2, 1, 0, 1, 2, 2, 1, 1, 2, 2, 0, 0, 0, 0, 2,\n",
       "       1, 1, 1, 1, 1, 1, 0, 2, 0, 0, 2, 2, 1, 0, 1, 2, 1, 2, 1, 2, 2, 0,\n",
       "       2, 1, 1, 2, 2, 0, 1, 0, 2, 2, 1, 0, 0, 2, 2, 1, 1, 0, 0, 1, 2, 2,\n",
       "       0, 0, 0, 0, 0, 2, 1, 0, 1, 1, 1, 1, 2, 0, 2, 2, 0, 2, 2, 2, 1, 2,\n",
       "       0, 2, 1, 1, 1, 1, 1, 0, 1, 0, 0, 1, 0, 0, 1, 2, 0, 2, 0, 1, 0, 2,\n",
       "       0, 2, 1, 1, 2, 1, 2, 1, 2, 0, 1, 2, 2, 0, 2, 1, 2, 0, 2, 2, 2, 1,\n",
       "       0, 1, 2, 0, 2, 0, 2, 2, 0, 0, 0, 2, 1, 1, 2, 0, 1, 0, 2, 0, 0, 1,\n",
       "       1, 0, 2, 2, 0, 1, 1, 2, 2, 0, 0, 1, 1, 2, 0, 0, 1, 1, 0, 0, 0, 1,\n",
       "       2, 2, 2, 2, 2, 2, 0, 1, 2, 2, 1, 1, 2, 1, 1, 2, 0, 1, 2, 2, 1, 0,\n",
       "       1, 1, 1, 2, 0, 0, 0, 1, 0, 1, 2, 2, 0, 1, 1, 0, 2, 1, 1, 1, 0, 1,\n",
       "       2, 2, 2, 2, 2, 2, 2, 1, 2, 1, 1, 1, 2, 1, 2, 0, 0, 0, 1, 0, 2, 0,\n",
       "       2, 0, 2, 2, 1, 1, 1, 0, 2, 0, 1, 2, 2, 1, 0, 0, 1, 0, 2, 2, 1, 1,\n",
       "       0, 0, 2, 1, 2, 1, 2, 0, 1, 0, 0, 2, 0, 2, 1, 0, 2, 1, 1, 2, 1, 0,\n",
       "       2, 2, 1, 2, 2, 1, 1, 0, 1, 1, 0, 2, 1, 2, 2, 1, 2, 2, 1, 2, 0, 0,\n",
       "       1, 2, 1, 2, 2, 2, 1, 0, 1, 0, 1, 0, 2, 2, 0, 1, 2, 2, 0, 1, 0, 2,\n",
       "       2, 1, 2, 1, 2, 2, 2, 1, 0, 2, 2, 2, 2, 1, 0, 2, 0, 1, 2, 0, 2, 2,\n",
       "       2, 0, 1, 2, 1, 0, 2, 2, 2, 0, 1, 1, 1, 0, 1, 1, 1, 0, 2, 0, 0, 1,\n",
       "       1, 2, 0, 2, 0, 2, 1, 2, 2, 0, 2, 2, 0, 1, 1, 1, 1, 1, 2, 2, 1, 1,\n",
       "       1, 2, 0, 2, 2, 0, 0, 1, 2, 1, 0, 2, 2, 2, 2, 2, 1, 1, 2, 2, 0, 1,\n",
       "       2, 2, 1, 1, 2, 0, 2, 0, 2, 0, 2, 0, 2, 1, 2, 0, 2, 2, 1, 0, 0, 1,\n",
       "       1, 2, 0, 0, 2, 0, 2, 1, 1, 0, 0, 2, 1, 1, 1, 0, 2, 0, 0, 1, 1, 0,\n",
       "       1, 0, 2, 0, 1, 1, 2, 2, 1, 2, 2, 2, 0, 2, 2, 2, 1, 1, 1, 2, 0, 2,\n",
       "       0, 1, 1, 2, 2, 2, 0, 1, 2, 1, 1, 1, 2, 0, 1, 1, 2, 1, 2, 2, 0, 1,\n",
       "       0, 1, 1, 2, 0, 1, 2, 1, 1, 0, 2, 1, 1, 1, 1, 2, 2, 0, 1, 2, 1, 1,\n",
       "       2, 1], dtype=int32)"
      ]
     },
     "execution_count": 6,
     "metadata": {},
     "output_type": "execute_result"
    }
   ],
   "source": [
    "clusters_from_sklearn = model.predict(data_train[['feature_1', 'feature_2']])\n",
    "clusters_from_sklearn\n"
   ]
  },
  {
   "cell_type": "code",
   "execution_count": 7,
   "metadata": {
    "tags": []
   },
   "outputs": [
    {
     "data": {
      "text/html": [
       "<div>\n",
       "<style scoped>\n",
       "    .dataframe tbody tr th:only-of-type {\n",
       "        vertical-align: middle;\n",
       "    }\n",
       "\n",
       "    .dataframe tbody tr th {\n",
       "        vertical-align: top;\n",
       "    }\n",
       "\n",
       "    .dataframe thead th {\n",
       "        text-align: right;\n",
       "    }\n",
       "</style>\n",
       "<table border=\"1\" class=\"dataframe\">\n",
       "  <thead>\n",
       "    <tr style=\"text-align: right;\">\n",
       "      <th></th>\n",
       "      <th>cluster</th>\n",
       "    </tr>\n",
       "    <tr>\n",
       "      <th>id</th>\n",
       "      <th></th>\n",
       "    </tr>\n",
       "  </thead>\n",
       "  <tbody>\n",
       "    <tr>\n",
       "      <th>253</th>\n",
       "      <td>2</td>\n",
       "    </tr>\n",
       "    <tr>\n",
       "      <th>667</th>\n",
       "      <td>0</td>\n",
       "    </tr>\n",
       "    <tr>\n",
       "      <th>85</th>\n",
       "      <td>2</td>\n",
       "    </tr>\n",
       "    <tr>\n",
       "      <th>969</th>\n",
       "      <td>0</td>\n",
       "    </tr>\n",
       "    <tr>\n",
       "      <th>75</th>\n",
       "      <td>0</td>\n",
       "    </tr>\n",
       "    <tr>\n",
       "      <th>...</th>\n",
       "      <td>...</td>\n",
       "    </tr>\n",
       "    <tr>\n",
       "      <th>835</th>\n",
       "      <td>2</td>\n",
       "    </tr>\n",
       "    <tr>\n",
       "      <th>192</th>\n",
       "      <td>1</td>\n",
       "    </tr>\n",
       "    <tr>\n",
       "      <th>629</th>\n",
       "      <td>1</td>\n",
       "    </tr>\n",
       "    <tr>\n",
       "      <th>559</th>\n",
       "      <td>2</td>\n",
       "    </tr>\n",
       "    <tr>\n",
       "      <th>684</th>\n",
       "      <td>1</td>\n",
       "    </tr>\n",
       "  </tbody>\n",
       "</table>\n",
       "<p>750 rows × 1 columns</p>\n",
       "</div>"
      ],
      "text/plain": [
       "     cluster\n",
       "id          \n",
       "253        2\n",
       "667        0\n",
       "85         2\n",
       "969        0\n",
       "75         0\n",
       "..       ...\n",
       "835        2\n",
       "192        1\n",
       "629        1\n",
       "559        2\n",
       "684        1\n",
       "\n",
       "[750 rows x 1 columns]"
      ]
     },
     "execution_count": 7,
     "metadata": {},
     "output_type": "execute_result"
    }
   ],
   "source": [
    "clusters_from_sklearn = pandas.DataFrame(\n",
    "    data = clusters_from_sklearn,\n",
    "    index = data_train.index,\n",
    "    columns = ['cluster']\n",
    ")\n",
    "clusters_from_sklearn"
   ]
  },
  {
   "cell_type": "markdown",
   "metadata": {},
   "source": [
    "# Instructions\n",
    "- Write a function that calculate the distances from a given sample point to the cluster centers\n",
    "  - Hint: use the DataFrame `cluster_centers`, `.apply`\n",
    "- Use the function to calculate the distances from a sample point at [0., 0.]\n",
    "  - Also, indicate which cluster the sample belongs to\n",
    "- Now, **manually calculate** the clusters for all training samples\n",
    "  - Also, properly put the data into `pandas.DataFrame`, with a column named `cluster`\n",
    "- Verify that the clusters from `.predict` and manual calculations are equal\n"
   ]
  },
  {
   "cell_type": "code",
   "execution_count": 8,
   "metadata": {},
   "outputs": [],
   "source": [
    "def calculate_distances_from_cluster_centers(sample):\n",
    "    return (\n",
    "        (sample - cluster_centers)\n",
    "        .apply(numpy.square)\n",
    "        .sum(axis='columns')\n",
    "        .apply(numpy.sqrt)\n",
    "    )    "
   ]
  },
  {
   "cell_type": "code",
   "execution_count": 9,
   "metadata": {},
   "outputs": [
    {
     "data": {
      "text/plain": [
       "cluster\n",
       "0     4.841454\n",
       "1    10.310646\n",
       "2     1.807011\n",
       "dtype: float64"
      ]
     },
     "execution_count": 9,
     "metadata": {},
     "output_type": "execute_result"
    }
   ],
   "source": [
    "calculate_distances_from_cluster_centers([0, 0])\n"
   ]
  },
  {
   "cell_type": "code",
   "execution_count": 10,
   "metadata": {},
   "outputs": [
    {
     "data": {
      "text/html": [
       "<div>\n",
       "<style scoped>\n",
       "    .dataframe tbody tr th:only-of-type {\n",
       "        vertical-align: middle;\n",
       "    }\n",
       "\n",
       "    .dataframe tbody tr th {\n",
       "        vertical-align: top;\n",
       "    }\n",
       "\n",
       "    .dataframe thead th {\n",
       "        text-align: right;\n",
       "    }\n",
       "</style>\n",
       "<table border=\"1\" class=\"dataframe\">\n",
       "  <thead>\n",
       "    <tr style=\"text-align: right;\">\n",
       "      <th>cluster</th>\n",
       "      <th>0</th>\n",
       "      <th>1</th>\n",
       "      <th>2</th>\n",
       "    </tr>\n",
       "    <tr>\n",
       "      <th>id</th>\n",
       "      <th></th>\n",
       "      <th></th>\n",
       "      <th></th>\n",
       "    </tr>\n",
       "  </thead>\n",
       "  <tbody>\n",
       "    <tr>\n",
       "      <th>253</th>\n",
       "      <td>7.000137</td>\n",
       "      <td>12.210917</td>\n",
       "      <td>0.576190</td>\n",
       "    </tr>\n",
       "    <tr>\n",
       "      <th>667</th>\n",
       "      <td>0.762185</td>\n",
       "      <td>7.199719</td>\n",
       "      <td>6.883918</td>\n",
       "    </tr>\n",
       "    <tr>\n",
       "      <th>85</th>\n",
       "      <td>6.693987</td>\n",
       "      <td>11.930215</td>\n",
       "      <td>0.437212</td>\n",
       "    </tr>\n",
       "    <tr>\n",
       "      <th>969</th>\n",
       "      <td>2.537593</td>\n",
       "      <td>4.219780</td>\n",
       "      <td>8.431749</td>\n",
       "    </tr>\n",
       "    <tr>\n",
       "      <th>75</th>\n",
       "      <td>2.906717</td>\n",
       "      <td>4.018682</td>\n",
       "      <td>8.218139</td>\n",
       "    </tr>\n",
       "    <tr>\n",
       "      <th>...</th>\n",
       "      <td>...</td>\n",
       "      <td>...</td>\n",
       "      <td>...</td>\n",
       "    </tr>\n",
       "    <tr>\n",
       "      <th>835</th>\n",
       "      <td>7.024655</td>\n",
       "      <td>12.247859</td>\n",
       "      <td>0.571352</td>\n",
       "    </tr>\n",
       "    <tr>\n",
       "      <th>192</th>\n",
       "      <td>9.228663</td>\n",
       "      <td>2.991312</td>\n",
       "      <td>13.528398</td>\n",
       "    </tr>\n",
       "    <tr>\n",
       "      <th>629</th>\n",
       "      <td>6.997561</td>\n",
       "      <td>1.502575</td>\n",
       "      <td>11.554891</td>\n",
       "    </tr>\n",
       "    <tr>\n",
       "      <th>559</th>\n",
       "      <td>7.006180</td>\n",
       "      <td>12.676227</td>\n",
       "      <td>0.763644</td>\n",
       "    </tr>\n",
       "    <tr>\n",
       "      <th>684</th>\n",
       "      <td>5.958359</td>\n",
       "      <td>1.132840</td>\n",
       "      <td>11.647512</td>\n",
       "    </tr>\n",
       "  </tbody>\n",
       "</table>\n",
       "<p>750 rows × 3 columns</p>\n",
       "</div>"
      ],
      "text/plain": [
       "cluster         0          1          2\n",
       "id                                     \n",
       "253      7.000137  12.210917   0.576190\n",
       "667      0.762185   7.199719   6.883918\n",
       "85       6.693987  11.930215   0.437212\n",
       "969      2.537593   4.219780   8.431749\n",
       "75       2.906717   4.018682   8.218139\n",
       "..            ...        ...        ...\n",
       "835      7.024655  12.247859   0.571352\n",
       "192      9.228663   2.991312  13.528398\n",
       "629      6.997561   1.502575  11.554891\n",
       "559      7.006180  12.676227   0.763644\n",
       "684      5.958359   1.132840  11.647512\n",
       "\n",
       "[750 rows x 3 columns]"
      ]
     },
     "execution_count": 10,
     "metadata": {},
     "output_type": "execute_result"
    }
   ],
   "source": [
    "distances_from_calculations = (\n",
    "    data_train[['feature_1', 'feature_2']]\n",
    "    .apply(calculate_distances_from_cluster_centers, axis='columns')\n",
    ")\n",
    "distances_from_calculations"
   ]
  },
  {
   "cell_type": "code",
   "execution_count": 11,
   "metadata": {},
   "outputs": [],
   "source": [
    "clusters_from_calculation = distances_from_calculations.idxmin(axis='columns')"
   ]
  },
  {
   "cell_type": "code",
   "execution_count": 12,
   "metadata": {},
   "outputs": [
    {
     "data": {
      "text/html": [
       "<div>\n",
       "<style scoped>\n",
       "    .dataframe tbody tr th:only-of-type {\n",
       "        vertical-align: middle;\n",
       "    }\n",
       "\n",
       "    .dataframe tbody tr th {\n",
       "        vertical-align: top;\n",
       "    }\n",
       "\n",
       "    .dataframe thead th {\n",
       "        text-align: right;\n",
       "    }\n",
       "</style>\n",
       "<table border=\"1\" class=\"dataframe\">\n",
       "  <thead>\n",
       "    <tr style=\"text-align: right;\">\n",
       "      <th></th>\n",
       "      <th>cluster</th>\n",
       "    </tr>\n",
       "    <tr>\n",
       "      <th>id</th>\n",
       "      <th></th>\n",
       "    </tr>\n",
       "  </thead>\n",
       "  <tbody>\n",
       "    <tr>\n",
       "      <th>253</th>\n",
       "      <td>2</td>\n",
       "    </tr>\n",
       "    <tr>\n",
       "      <th>667</th>\n",
       "      <td>0</td>\n",
       "    </tr>\n",
       "    <tr>\n",
       "      <th>85</th>\n",
       "      <td>2</td>\n",
       "    </tr>\n",
       "    <tr>\n",
       "      <th>969</th>\n",
       "      <td>0</td>\n",
       "    </tr>\n",
       "    <tr>\n",
       "      <th>75</th>\n",
       "      <td>0</td>\n",
       "    </tr>\n",
       "    <tr>\n",
       "      <th>...</th>\n",
       "      <td>...</td>\n",
       "    </tr>\n",
       "    <tr>\n",
       "      <th>835</th>\n",
       "      <td>2</td>\n",
       "    </tr>\n",
       "    <tr>\n",
       "      <th>192</th>\n",
       "      <td>1</td>\n",
       "    </tr>\n",
       "    <tr>\n",
       "      <th>629</th>\n",
       "      <td>1</td>\n",
       "    </tr>\n",
       "    <tr>\n",
       "      <th>559</th>\n",
       "      <td>2</td>\n",
       "    </tr>\n",
       "    <tr>\n",
       "      <th>684</th>\n",
       "      <td>1</td>\n",
       "    </tr>\n",
       "  </tbody>\n",
       "</table>\n",
       "<p>750 rows × 1 columns</p>\n",
       "</div>"
      ],
      "text/plain": [
       "     cluster\n",
       "id          \n",
       "253        2\n",
       "667        0\n",
       "85         2\n",
       "969        0\n",
       "75         0\n",
       "..       ...\n",
       "835        2\n",
       "192        1\n",
       "629        1\n",
       "559        2\n",
       "684        1\n",
       "\n",
       "[750 rows x 1 columns]"
      ]
     },
     "execution_count": 12,
     "metadata": {},
     "output_type": "execute_result"
    }
   ],
   "source": [
    "clusters_from_calculation = pandas.DataFrame(\n",
    "    clusters_from_calculation,\n",
    "    columns = ['cluster']\n",
    ")\n",
    "clusters_from_calculation"
   ]
  },
  {
   "cell_type": "code",
   "execution_count": 13,
   "metadata": {
    "tags": []
   },
   "outputs": [
    {
     "data": {
      "text/plain": [
       "cluster    True\n",
       "dtype: bool"
      ]
     },
     "execution_count": 13,
     "metadata": {},
     "output_type": "execute_result"
    }
   ],
   "source": [
    "(clusters_from_sklearn == clusters_from_calculation).all()"
   ]
  },
  {
   "cell_type": "code",
   "execution_count": null,
   "metadata": {},
   "outputs": [],
   "source": []
  }
 ],
 "metadata": {
  "kernelspec": {
   "display_name": "Python 3 (ipykernel)",
   "language": "python",
   "name": "python3"
  },
  "language_info": {
   "codemirror_mode": {
    "name": "ipython",
    "version": 3
   },
   "file_extension": ".py",
   "mimetype": "text/x-python",
   "name": "python",
   "nbconvert_exporter": "python",
   "pygments_lexer": "ipython3",
   "version": "3.11.5"
  }
 },
 "nbformat": 4,
 "nbformat_minor": 4
}
