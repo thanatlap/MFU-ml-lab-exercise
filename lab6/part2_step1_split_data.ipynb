{
 "cells": [
  {
   "cell_type": "code",
   "execution_count": 1,
   "metadata": {
    "tags": []
   },
   "outputs": [],
   "source": [
    "import pandas\n",
    "import sklearn.model_selection"
   ]
  },
  {
   "cell_type": "markdown",
   "metadata": {},
   "source": [
    "# Instructions\n",
    "\n",
    "- Read the data from CSV file and properly set the index\n",
    "- Split the data into a train data set and a test data set using `sklearn.model_selection.train_test_split` with the following configurations:\n",
    "```\n",
    "    train_size   = 0.75\n",
    "    shuffle      = True \n",
    "    random_state = 0\n",
    "```\n",
    "- Write the train data set to `./data/blobs.train.csv`\n",
    "- Write the test data set to `./data/blobs.test.csv`\n",
    "- **No data processing shall be performed in this step**\n"
   ]
  },
  {
   "cell_type": "code",
   "execution_count": 2,
   "metadata": {
    "tags": []
   },
   "outputs": [
    {
     "data": {
      "text/html": [
       "<div>\n",
       "<style scoped>\n",
       "    .dataframe tbody tr th:only-of-type {\n",
       "        vertical-align: middle;\n",
       "    }\n",
       "\n",
       "    .dataframe tbody tr th {\n",
       "        vertical-align: top;\n",
       "    }\n",
       "\n",
       "    .dataframe thead th {\n",
       "        text-align: right;\n",
       "    }\n",
       "</style>\n",
       "<table border=\"1\" class=\"dataframe\">\n",
       "  <thead>\n",
       "    <tr style=\"text-align: right;\">\n",
       "      <th></th>\n",
       "      <th>feature_1</th>\n",
       "      <th>feature_2</th>\n",
       "    </tr>\n",
       "    <tr>\n",
       "      <th>id</th>\n",
       "      <th></th>\n",
       "      <th></th>\n",
       "    </tr>\n",
       "  </thead>\n",
       "  <tbody>\n",
       "    <tr>\n",
       "      <th>0</th>\n",
       "      <td>-7.4968</td>\n",
       "      <td>-4.7958</td>\n",
       "    </tr>\n",
       "    <tr>\n",
       "      <th>1</th>\n",
       "      <td>-9.8770</td>\n",
       "      <td>-6.8285</td>\n",
       "    </tr>\n",
       "    <tr>\n",
       "      <th>2</th>\n",
       "      <td>2.2098</td>\n",
       "      <td>0.3167</td>\n",
       "    </tr>\n",
       "    <tr>\n",
       "      <th>3</th>\n",
       "      <td>1.8201</td>\n",
       "      <td>0.2655</td>\n",
       "    </tr>\n",
       "    <tr>\n",
       "      <th>4</th>\n",
       "      <td>-9.2560</td>\n",
       "      <td>-5.9562</td>\n",
       "    </tr>\n",
       "    <tr>\n",
       "      <th>...</th>\n",
       "      <td>...</td>\n",
       "      <td>...</td>\n",
       "    </tr>\n",
       "    <tr>\n",
       "      <th>995</th>\n",
       "      <td>-10.3532</td>\n",
       "      <td>-6.6187</td>\n",
       "    </tr>\n",
       "    <tr>\n",
       "      <th>996</th>\n",
       "      <td>-6.5858</td>\n",
       "      <td>-2.9646</td>\n",
       "    </tr>\n",
       "    <tr>\n",
       "      <th>997</th>\n",
       "      <td>-4.6151</td>\n",
       "      <td>-0.4689</td>\n",
       "    </tr>\n",
       "    <tr>\n",
       "      <th>998</th>\n",
       "      <td>-4.6583</td>\n",
       "      <td>-0.1808</td>\n",
       "    </tr>\n",
       "    <tr>\n",
       "      <th>999</th>\n",
       "      <td>1.4038</td>\n",
       "      <td>1.5392</td>\n",
       "    </tr>\n",
       "  </tbody>\n",
       "</table>\n",
       "<p>1000 rows × 2 columns</p>\n",
       "</div>"
      ],
      "text/plain": [
       "     feature_1  feature_2\n",
       "id                       \n",
       "0      -7.4968    -4.7958\n",
       "1      -9.8770    -6.8285\n",
       "2       2.2098     0.3167\n",
       "3       1.8201     0.2655\n",
       "4      -9.2560    -5.9562\n",
       "..         ...        ...\n",
       "995   -10.3532    -6.6187\n",
       "996    -6.5858    -2.9646\n",
       "997    -4.6151    -0.4689\n",
       "998    -4.6583    -0.1808\n",
       "999     1.4038     1.5392\n",
       "\n",
       "[1000 rows x 2 columns]"
      ]
     },
     "execution_count": 2,
     "metadata": {},
     "output_type": "execute_result"
    }
   ],
   "source": [
    "data_train_test = pandas.read_csv('./data/blobs.csv').set_index('id')\n",
    "data_train_test"
   ]
  },
  {
   "cell_type": "code",
   "execution_count": 3,
   "metadata": {
    "tags": []
   },
   "outputs": [],
   "source": [
    "data_train, data_test = sklearn.model_selection.train_test_split(\n",
    "    data_train_test, \n",
    "    train_size   = 0.75, \n",
    "    shuffle      = True, \n",
    "    random_state = 0\n",
    ")\n",
    "\n",
    "data_train.to_csv('./data/blobs.train.csv')\n",
    "data_test.to_csv('./data/blobs.test.csv')"
   ]
  },
  {
   "cell_type": "code",
   "execution_count": null,
   "metadata": {},
   "outputs": [],
   "source": []
  },
  {
   "cell_type": "code",
   "execution_count": null,
   "metadata": {},
   "outputs": [],
   "source": []
  }
 ],
 "metadata": {
  "kernelspec": {
   "display_name": "Python 3 (ipykernel)",
   "language": "python",
   "name": "python3"
  },
  "language_info": {
   "codemirror_mode": {
    "name": "ipython",
    "version": 3
   },
   "file_extension": ".py",
   "mimetype": "text/x-python",
   "name": "python",
   "nbconvert_exporter": "python",
   "pygments_lexer": "ipython3",
   "version": "3.11.5"
  }
 },
 "nbformat": 4,
 "nbformat_minor": 4
}
