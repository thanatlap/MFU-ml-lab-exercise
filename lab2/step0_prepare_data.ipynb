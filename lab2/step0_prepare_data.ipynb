{
 "cells": [
  {
   "cell_type": "code",
   "execution_count": 1,
   "metadata": {
    "tags": []
   },
   "outputs": [],
   "source": [
    "import numpy\n",
    "import pandas"
   ]
  },
  {
   "cell_type": "markdown",
   "metadata": {},
   "source": [
    "# Instructions\n",
    "\n",
    "- Run this script to generate data for all experiments\n",
    "- This script write the data to `./data/odd_cube.csv`"
   ]
  },
  {
   "cell_type": "code",
   "execution_count": 2,
   "metadata": {
    "tags": []
   },
   "outputs": [],
   "source": [
    "numpy.random.seed(0)\n",
    "x = numpy.random.uniform(low=-3., high=3., size=1000)\n",
    "y = (\n",
    "    - numpy.random.standard_normal(1) * x ** 3\n",
    "    + numpy.random.standard_normal(1) * x\n",
    "    + numpy.random.standard_normal(x.shape[0])\n",
    ")"
   ]
  },
  {
   "cell_type": "code",
   "execution_count": 3,
   "metadata": {
    "tags": []
   },
   "outputs": [],
   "source": [
    "data = pandas.DataFrame({\n",
    "    'feature_1': x,\n",
    "    'label'    : y,\n",
    "})\n",
    "data.index.name = 'id'\n",
    "data.to_csv('./data/odd_cube.csv', float_format='%.4f')"
   ]
  }
 ],
 "metadata": {
  "kernelspec": {
   "display_name": "Python 3 (ipykernel)",
   "language": "python",
   "name": "python3"
  },
  "language_info": {
   "codemirror_mode": {
    "name": "ipython",
    "version": 3
   },
   "file_extension": ".py",
   "mimetype": "text/x-python",
   "name": "python",
   "nbconvert_exporter": "python",
   "pygments_lexer": "ipython3",
   "version": "3.11.5"
  }
 },
 "nbformat": 4,
 "nbformat_minor": 4
}
