{
 "cells": [
  {
   "cell_type": "code",
   "execution_count": 1,
   "metadata": {},
   "outputs": [],
   "source": [
    "import pandas\n",
    "import seaborn\n",
    "\n",
    "%matplotlib inline"
   ]
  },
  {
   "cell_type": "markdown",
   "metadata": {
    "tags": []
   },
   "source": [
    "# Instructions\n",
    "- Read the data from CSV files and properly set the indices\n",
    "- Use `seaborn.scatterplot` to visualize both features and labels on both data sets\n",
    "- Now, for each dataset, add the following features:\n",
    "  - `feature_2 = feature_1 * feature_1`\n",
    "  - `feature_3 = feature_1 * feature_1 * feature_1`\n",
    "- Present a method to investigate or visualize the features\n",
    "  - Note that the data now has 3 features\n",
    "- Simply write the train data set to `./{model_name}/data/cubic_features.train.csv`\n",
    "- Simply write the test data set to `./{model_name}/data/cubic_features.test.csv`\n"
   ]
  },
  {
   "cell_type": "code",
   "execution_count": 2,
   "metadata": {},
   "outputs": [
    {
     "data": {
      "text/html": [
       "<div>\n",
       "<style scoped>\n",
       "    .dataframe tbody tr th:only-of-type {\n",
       "        vertical-align: middle;\n",
       "    }\n",
       "\n",
       "    .dataframe tbody tr th {\n",
       "        vertical-align: top;\n",
       "    }\n",
       "\n",
       "    .dataframe thead th {\n",
       "        text-align: right;\n",
       "    }\n",
       "</style>\n",
       "<table border=\"1\" class=\"dataframe\">\n",
       "  <thead>\n",
       "    <tr style=\"text-align: right;\">\n",
       "      <th></th>\n",
       "      <th>feature_1</th>\n",
       "      <th>label</th>\n",
       "    </tr>\n",
       "    <tr>\n",
       "      <th>id</th>\n",
       "      <th></th>\n",
       "      <th></th>\n",
       "    </tr>\n",
       "  </thead>\n",
       "  <tbody>\n",
       "    <tr>\n",
       "      <th>253</th>\n",
       "      <td>1.4920</td>\n",
       "      <td>1.0676</td>\n",
       "    </tr>\n",
       "    <tr>\n",
       "      <th>667</th>\n",
       "      <td>-0.9317</td>\n",
       "      <td>0.8359</td>\n",
       "    </tr>\n",
       "    <tr>\n",
       "      <th>85</th>\n",
       "      <td>-1.4077</td>\n",
       "      <td>-1.6642</td>\n",
       "    </tr>\n",
       "    <tr>\n",
       "      <th>969</th>\n",
       "      <td>2.2750</td>\n",
       "      <td>0.7641</td>\n",
       "    </tr>\n",
       "    <tr>\n",
       "      <th>75</th>\n",
       "      <td>-2.7649</td>\n",
       "      <td>-0.0689</td>\n",
       "    </tr>\n",
       "    <tr>\n",
       "      <th>...</th>\n",
       "      <td>...</td>\n",
       "      <td>...</td>\n",
       "    </tr>\n",
       "    <tr>\n",
       "      <th>835</th>\n",
       "      <td>-0.1237</td>\n",
       "      <td>-0.8241</td>\n",
       "    </tr>\n",
       "    <tr>\n",
       "      <th>192</th>\n",
       "      <td>-1.8828</td>\n",
       "      <td>-1.0807</td>\n",
       "    </tr>\n",
       "    <tr>\n",
       "      <th>629</th>\n",
       "      <td>-2.1139</td>\n",
       "      <td>-2.9819</td>\n",
       "    </tr>\n",
       "    <tr>\n",
       "      <th>559</th>\n",
       "      <td>2.3218</td>\n",
       "      <td>1.2918</td>\n",
       "    </tr>\n",
       "    <tr>\n",
       "      <th>684</th>\n",
       "      <td>-2.3413</td>\n",
       "      <td>-1.0121</td>\n",
       "    </tr>\n",
       "  </tbody>\n",
       "</table>\n",
       "<p>750 rows × 2 columns</p>\n",
       "</div>"
      ],
      "text/plain": [
       "     feature_1   label\n",
       "id                    \n",
       "253     1.4920  1.0676\n",
       "667    -0.9317  0.8359\n",
       "85     -1.4077 -1.6642\n",
       "969     2.2750  0.7641\n",
       "75     -2.7649 -0.0689\n",
       "..         ...     ...\n",
       "835    -0.1237 -0.8241\n",
       "192    -1.8828 -1.0807\n",
       "629    -2.1139 -2.9819\n",
       "559     2.3218  1.2918\n",
       "684    -2.3413 -1.0121\n",
       "\n",
       "[750 rows x 2 columns]"
      ]
     },
     "execution_count": 2,
     "metadata": {},
     "output_type": "execute_result"
    }
   ],
   "source": [
    "data_train = pandas.read_csv('../data/odd_cube.train.csv').set_index('id')\n",
    "data_train"
   ]
  },
  {
   "cell_type": "code",
   "execution_count": 3,
   "metadata": {
    "tags": []
   },
   "outputs": [
    {
     "name": "stderr",
     "output_type": "stream",
     "text": [
      "/opt/conda/lib/python3.11/site-packages/seaborn/_oldcore.py:1498: FutureWarning: is_categorical_dtype is deprecated and will be removed in a future version. Use isinstance(dtype, CategoricalDtype) instead\n",
      "  if pd.api.types.is_categorical_dtype(vector):\n",
      "/opt/conda/lib/python3.11/site-packages/seaborn/_oldcore.py:1498: FutureWarning: is_categorical_dtype is deprecated and will be removed in a future version. Use isinstance(dtype, CategoricalDtype) instead\n",
      "  if pd.api.types.is_categorical_dtype(vector):\n"
     ]
    },
    {
     "data": {
      "text/plain": [
       "<Axes: xlabel='feature_1', ylabel='label'>"
      ]
     },
     "execution_count": 3,
     "metadata": {},
     "output_type": "execute_result"
    },
    {
     "data": {
      "image/png": "[encoded data removed]",
      "text/plain": [
       "<Figure size 640x480 with 1 Axes>"
      ]
     },
     "metadata": {},
     "output_type": "display_data"
    }
   ],
   "source": [
    "seaborn.scatterplot(\n",
    "    data = data_train,\n",
    "    x    = 'feature_1',\n",
    "    y    = 'label',\n",
    "    s    = 3,\n",
    ")"
   ]
  },
  {
   "cell_type": "code",
   "execution_count": 4,
   "metadata": {
    "tags": []
   },
   "outputs": [
    {
     "data": {
      "text/html": [
       "<div>\n",
       "<style scoped>\n",
       "    .dataframe tbody tr th:only-of-type {\n",
       "        vertical-align: middle;\n",
       "    }\n",
       "\n",
       "    .dataframe tbody tr th {\n",
       "        vertical-align: top;\n",
       "    }\n",
       "\n",
       "    .dataframe thead th {\n",
       "        text-align: right;\n",
       "    }\n",
       "</style>\n",
       "<table border=\"1\" class=\"dataframe\">\n",
       "  <thead>\n",
       "    <tr style=\"text-align: right;\">\n",
       "      <th></th>\n",
       "      <th>feature_1</th>\n",
       "      <th>label</th>\n",
       "      <th>feature_2</th>\n",
       "      <th>feature_3</th>\n",
       "    </tr>\n",
       "    <tr>\n",
       "      <th>id</th>\n",
       "      <th></th>\n",
       "      <th></th>\n",
       "      <th></th>\n",
       "      <th></th>\n",
       "    </tr>\n",
       "  </thead>\n",
       "  <tbody>\n",
       "    <tr>\n",
       "      <th>253</th>\n",
       "      <td>1.4920</td>\n",
       "      <td>1.0676</td>\n",
       "      <td>2.226064</td>\n",
       "      <td>3.321287</td>\n",
       "    </tr>\n",
       "    <tr>\n",
       "      <th>667</th>\n",
       "      <td>-0.9317</td>\n",
       "      <td>0.8359</td>\n",
       "      <td>0.868065</td>\n",
       "      <td>-0.808776</td>\n",
       "    </tr>\n",
       "    <tr>\n",
       "      <th>85</th>\n",
       "      <td>-1.4077</td>\n",
       "      <td>-1.6642</td>\n",
       "      <td>1.981619</td>\n",
       "      <td>-2.789525</td>\n",
       "    </tr>\n",
       "    <tr>\n",
       "      <th>969</th>\n",
       "      <td>2.2750</td>\n",
       "      <td>0.7641</td>\n",
       "      <td>5.175625</td>\n",
       "      <td>11.774547</td>\n",
       "    </tr>\n",
       "    <tr>\n",
       "      <th>75</th>\n",
       "      <td>-2.7649</td>\n",
       "      <td>-0.0689</td>\n",
       "      <td>7.644672</td>\n",
       "      <td>-21.136754</td>\n",
       "    </tr>\n",
       "    <tr>\n",
       "      <th>...</th>\n",
       "      <td>...</td>\n",
       "      <td>...</td>\n",
       "      <td>...</td>\n",
       "      <td>...</td>\n",
       "    </tr>\n",
       "    <tr>\n",
       "      <th>835</th>\n",
       "      <td>-0.1237</td>\n",
       "      <td>-0.8241</td>\n",
       "      <td>0.015302</td>\n",
       "      <td>-0.001893</td>\n",
       "    </tr>\n",
       "    <tr>\n",
       "      <th>192</th>\n",
       "      <td>-1.8828</td>\n",
       "      <td>-1.0807</td>\n",
       "      <td>3.544936</td>\n",
       "      <td>-6.674405</td>\n",
       "    </tr>\n",
       "    <tr>\n",
       "      <th>629</th>\n",
       "      <td>-2.1139</td>\n",
       "      <td>-2.9819</td>\n",
       "      <td>4.468573</td>\n",
       "      <td>-9.446117</td>\n",
       "    </tr>\n",
       "    <tr>\n",
       "      <th>559</th>\n",
       "      <td>2.3218</td>\n",
       "      <td>1.2918</td>\n",
       "      <td>5.390755</td>\n",
       "      <td>12.516256</td>\n",
       "    </tr>\n",
       "    <tr>\n",
       "      <th>684</th>\n",
       "      <td>-2.3413</td>\n",
       "      <td>-1.0121</td>\n",
       "      <td>5.481686</td>\n",
       "      <td>-12.834271</td>\n",
       "    </tr>\n",
       "  </tbody>\n",
       "</table>\n",
       "<p>750 rows × 4 columns</p>\n",
       "</div>"
      ],
      "text/plain": [
       "     feature_1   label  feature_2  feature_3\n",
       "id                                          \n",
       "253     1.4920  1.0676   2.226064   3.321287\n",
       "667    -0.9317  0.8359   0.868065  -0.808776\n",
       "85     -1.4077 -1.6642   1.981619  -2.789525\n",
       "969     2.2750  0.7641   5.175625  11.774547\n",
       "75     -2.7649 -0.0689   7.644672 -21.136754\n",
       "..         ...     ...        ...        ...\n",
       "835    -0.1237 -0.8241   0.015302  -0.001893\n",
       "192    -1.8828 -1.0807   3.544936  -6.674405\n",
       "629    -2.1139 -2.9819   4.468573  -9.446117\n",
       "559     2.3218  1.2918   5.390755  12.516256\n",
       "684    -2.3413 -1.0121   5.481686 -12.834271\n",
       "\n",
       "[750 rows x 4 columns]"
      ]
     },
     "execution_count": 4,
     "metadata": {},
     "output_type": "execute_result"
    }
   ],
   "source": [
    "data_train['feature_2'] = data_train['feature_1'] ** 2\n",
    "data_train['feature_3'] = data_train['feature_1'] ** 3\n",
    "data_train"
   ]
  },
  {
   "cell_type": "code",
   "execution_count": 5,
   "metadata": {
    "tags": []
   },
   "outputs": [
    {
     "data": {
      "text/plain": [
       "<Axes: >"
      ]
     },
     "execution_count": 5,
     "metadata": {},
     "output_type": "execute_result"
    },
    {
     "data": {
      "image/png": "[encoded data removed]",
      "text/plain": [
       "<Figure size 640x480 with 1 Axes>"
      ]
     },
     "metadata": {},
     "output_type": "display_data"
    }
   ],
   "source": [
    "seaborn.violinplot(\n",
    "    data_train,\n",
    "    order = [\n",
    "        'feature_1',\n",
    "        'feature_2',\n",
    "        'feature_3',\n",
    "        'label',\n",
    "    ]\n",
    ")"
   ]
  },
  {
   "cell_type": "code",
   "execution_count": 6,
   "metadata": {},
   "outputs": [],
   "source": [
    "data_train.to_csv('./data/cubic_features.train.csv')"
   ]
  },
  {
   "cell_type": "code",
   "execution_count": 7,
   "metadata": {},
   "outputs": [
    {
     "data": {
      "text/html": [
       "<div>\n",
       "<style scoped>\n",
       "    .dataframe tbody tr th:only-of-type {\n",
       "        vertical-align: middle;\n",
       "    }\n",
       "\n",
       "    .dataframe tbody tr th {\n",
       "        vertical-align: top;\n",
       "    }\n",
       "\n",
       "    .dataframe thead th {\n",
       "        text-align: right;\n",
       "    }\n",
       "</style>\n",
       "<table border=\"1\" class=\"dataframe\">\n",
       "  <thead>\n",
       "    <tr style=\"text-align: right;\">\n",
       "      <th></th>\n",
       "      <th>feature_1</th>\n",
       "      <th>label</th>\n",
       "    </tr>\n",
       "    <tr>\n",
       "      <th>id</th>\n",
       "      <th></th>\n",
       "      <th></th>\n",
       "    </tr>\n",
       "  </thead>\n",
       "  <tbody>\n",
       "    <tr>\n",
       "      <th>993</th>\n",
       "      <td>0.0412</td>\n",
       "      <td>-0.0089</td>\n",
       "    </tr>\n",
       "    <tr>\n",
       "      <th>859</th>\n",
       "      <td>-0.8460</td>\n",
       "      <td>0.7467</td>\n",
       "    </tr>\n",
       "    <tr>\n",
       "      <th>298</th>\n",
       "      <td>2.8375</td>\n",
       "      <td>2.4456</td>\n",
       "    </tr>\n",
       "    <tr>\n",
       "      <th>553</th>\n",
       "      <td>0.1197</td>\n",
       "      <td>-0.7088</td>\n",
       "    </tr>\n",
       "    <tr>\n",
       "      <th>672</th>\n",
       "      <td>0.6872</td>\n",
       "      <td>0.1937</td>\n",
       "    </tr>\n",
       "    <tr>\n",
       "      <th>...</th>\n",
       "      <td>...</td>\n",
       "      <td>...</td>\n",
       "    </tr>\n",
       "    <tr>\n",
       "      <th>462</th>\n",
       "      <td>-0.7542</td>\n",
       "      <td>0.9809</td>\n",
       "    </tr>\n",
       "    <tr>\n",
       "      <th>356</th>\n",
       "      <td>-1.3344</td>\n",
       "      <td>0.6540</td>\n",
       "    </tr>\n",
       "    <tr>\n",
       "      <th>2</th>\n",
       "      <td>0.6166</td>\n",
       "      <td>-0.4633</td>\n",
       "    </tr>\n",
       "    <tr>\n",
       "      <th>478</th>\n",
       "      <td>2.9664</td>\n",
       "      <td>3.4442</td>\n",
       "    </tr>\n",
       "    <tr>\n",
       "      <th>695</th>\n",
       "      <td>-0.8094</td>\n",
       "      <td>-0.4599</td>\n",
       "    </tr>\n",
       "  </tbody>\n",
       "</table>\n",
       "<p>250 rows × 2 columns</p>\n",
       "</div>"
      ],
      "text/plain": [
       "     feature_1   label\n",
       "id                    \n",
       "993     0.0412 -0.0089\n",
       "859    -0.8460  0.7467\n",
       "298     2.8375  2.4456\n",
       "553     0.1197 -0.7088\n",
       "672     0.6872  0.1937\n",
       "..         ...     ...\n",
       "462    -0.7542  0.9809\n",
       "356    -1.3344  0.6540\n",
       "2       0.6166 -0.4633\n",
       "478     2.9664  3.4442\n",
       "695    -0.8094 -0.4599\n",
       "\n",
       "[250 rows x 2 columns]"
      ]
     },
     "execution_count": 7,
     "metadata": {},
     "output_type": "execute_result"
    }
   ],
   "source": [
    "data_test = pandas.read_csv('../data/odd_cube.test.csv').set_index('id')\n",
    "data_test"
   ]
  },
  {
   "cell_type": "code",
   "execution_count": 8,
   "metadata": {},
   "outputs": [
    {
     "name": "stderr",
     "output_type": "stream",
     "text": [
      "/opt/conda/lib/python3.11/site-packages/seaborn/_oldcore.py:1498: FutureWarning: is_categorical_dtype is deprecated and will be removed in a future version. Use isinstance(dtype, CategoricalDtype) instead\n",
      "  if pd.api.types.is_categorical_dtype(vector):\n",
      "/opt/conda/lib/python3.11/site-packages/seaborn/_oldcore.py:1498: FutureWarning: is_categorical_dtype is deprecated and will be removed in a future version. Use isinstance(dtype, CategoricalDtype) instead\n",
      "  if pd.api.types.is_categorical_dtype(vector):\n"
     ]
    },
    {
     "data": {
      "text/plain": [
       "<Axes: xlabel='feature_1', ylabel='label'>"
      ]
     },
     "execution_count": 8,
     "metadata": {},
     "output_type": "execute_result"
    },
    {
     "data": {
      "image/png": "[encoded data removed]",
      "text/plain": [
       "<Figure size 640x480 with 1 Axes>"
      ]
     },
     "metadata": {},
     "output_type": "display_data"
    }
   ],
   "source": [
    "seaborn.scatterplot(\n",
    "    data = data_test,\n",
    "    x    = 'feature_1',\n",
    "    y    = 'label',\n",
    "    s    = 3,\n",
    ")"
   ]
  },
  {
   "cell_type": "code",
   "execution_count": 9,
   "metadata": {
    "tags": []
   },
   "outputs": [
    {
     "data": {
      "text/html": [
       "<div>\n",
       "<style scoped>\n",
       "    .dataframe tbody tr th:only-of-type {\n",
       "        vertical-align: middle;\n",
       "    }\n",
       "\n",
       "    .dataframe tbody tr th {\n",
       "        vertical-align: top;\n",
       "    }\n",
       "\n",
       "    .dataframe thead th {\n",
       "        text-align: right;\n",
       "    }\n",
       "</style>\n",
       "<table border=\"1\" class=\"dataframe\">\n",
       "  <thead>\n",
       "    <tr style=\"text-align: right;\">\n",
       "      <th></th>\n",
       "      <th>feature_1</th>\n",
       "      <th>label</th>\n",
       "      <th>feature_2</th>\n",
       "      <th>feature_3</th>\n",
       "    </tr>\n",
       "    <tr>\n",
       "      <th>id</th>\n",
       "      <th></th>\n",
       "      <th></th>\n",
       "      <th></th>\n",
       "      <th></th>\n",
       "    </tr>\n",
       "  </thead>\n",
       "  <tbody>\n",
       "    <tr>\n",
       "      <th>993</th>\n",
       "      <td>0.0412</td>\n",
       "      <td>-0.0089</td>\n",
       "      <td>0.001697</td>\n",
       "      <td>0.000070</td>\n",
       "    </tr>\n",
       "    <tr>\n",
       "      <th>859</th>\n",
       "      <td>-0.8460</td>\n",
       "      <td>0.7467</td>\n",
       "      <td>0.715716</td>\n",
       "      <td>-0.605496</td>\n",
       "    </tr>\n",
       "    <tr>\n",
       "      <th>298</th>\n",
       "      <td>2.8375</td>\n",
       "      <td>2.4456</td>\n",
       "      <td>8.051406</td>\n",
       "      <td>22.845865</td>\n",
       "    </tr>\n",
       "    <tr>\n",
       "      <th>553</th>\n",
       "      <td>0.1197</td>\n",
       "      <td>-0.7088</td>\n",
       "      <td>0.014328</td>\n",
       "      <td>0.001715</td>\n",
       "    </tr>\n",
       "    <tr>\n",
       "      <th>672</th>\n",
       "      <td>0.6872</td>\n",
       "      <td>0.1937</td>\n",
       "      <td>0.472244</td>\n",
       "      <td>0.324526</td>\n",
       "    </tr>\n",
       "    <tr>\n",
       "      <th>...</th>\n",
       "      <td>...</td>\n",
       "      <td>...</td>\n",
       "      <td>...</td>\n",
       "      <td>...</td>\n",
       "    </tr>\n",
       "    <tr>\n",
       "      <th>462</th>\n",
       "      <td>-0.7542</td>\n",
       "      <td>0.9809</td>\n",
       "      <td>0.568818</td>\n",
       "      <td>-0.429002</td>\n",
       "    </tr>\n",
       "    <tr>\n",
       "      <th>356</th>\n",
       "      <td>-1.3344</td>\n",
       "      <td>0.6540</td>\n",
       "      <td>1.780623</td>\n",
       "      <td>-2.376064</td>\n",
       "    </tr>\n",
       "    <tr>\n",
       "      <th>2</th>\n",
       "      <td>0.6166</td>\n",
       "      <td>-0.4633</td>\n",
       "      <td>0.380196</td>\n",
       "      <td>0.234429</td>\n",
       "    </tr>\n",
       "    <tr>\n",
       "      <th>478</th>\n",
       "      <td>2.9664</td>\n",
       "      <td>3.4442</td>\n",
       "      <td>8.799529</td>\n",
       "      <td>26.102923</td>\n",
       "    </tr>\n",
       "    <tr>\n",
       "      <th>695</th>\n",
       "      <td>-0.8094</td>\n",
       "      <td>-0.4599</td>\n",
       "      <td>0.655128</td>\n",
       "      <td>-0.530261</td>\n",
       "    </tr>\n",
       "  </tbody>\n",
       "</table>\n",
       "<p>250 rows × 4 columns</p>\n",
       "</div>"
      ],
      "text/plain": [
       "     feature_1   label  feature_2  feature_3\n",
       "id                                          \n",
       "993     0.0412 -0.0089   0.001697   0.000070\n",
       "859    -0.8460  0.7467   0.715716  -0.605496\n",
       "298     2.8375  2.4456   8.051406  22.845865\n",
       "553     0.1197 -0.7088   0.014328   0.001715\n",
       "672     0.6872  0.1937   0.472244   0.324526\n",
       "..         ...     ...        ...        ...\n",
       "462    -0.7542  0.9809   0.568818  -0.429002\n",
       "356    -1.3344  0.6540   1.780623  -2.376064\n",
       "2       0.6166 -0.4633   0.380196   0.234429\n",
       "478     2.9664  3.4442   8.799529  26.102923\n",
       "695    -0.8094 -0.4599   0.655128  -0.530261\n",
       "\n",
       "[250 rows x 4 columns]"
      ]
     },
     "execution_count": 9,
     "metadata": {},
     "output_type": "execute_result"
    }
   ],
   "source": [
    "data_test['feature_2'] = data_test['feature_1'] ** 2\n",
    "data_test['feature_3'] = data_test['feature_1'] ** 3\n",
    "data_test"
   ]
  },
  {
   "cell_type": "code",
   "execution_count": 10,
   "metadata": {
    "tags": []
   },
   "outputs": [
    {
     "data": {
      "text/plain": [
       "<Axes: >"
      ]
     },
     "execution_count": 10,
     "metadata": {},
     "output_type": "execute_result"
    },
    {
     "data": {
      "image/png": "[encoded data removed]",
      "text/plain": [
       "<Figure size 640x480 with 1 Axes>"
      ]
     },
     "metadata": {},
     "output_type": "display_data"
    }
   ],
   "source": [
    "seaborn.violinplot(\n",
    "    data_test,\n",
    "    order = [\n",
    "        'feature_1',\n",
    "        'feature_2',\n",
    "        'feature_3',\n",
    "        'label',\n",
    "    ]\n",
    ")"
   ]
  },
  {
   "cell_type": "code",
   "execution_count": 11,
   "metadata": {
    "tags": []
   },
   "outputs": [],
   "source": [
    "data_test.to_csv('./data/cubic_features.test.csv')"
   ]
  },
  {
   "cell_type": "code",
   "execution_count": null,
   "metadata": {},
   "outputs": [],
   "source": []
  }
 ],
 "metadata": {
  "kernelspec": {
   "display_name": "Python 3 (ipykernel)",
   "language": "python",
   "name": "python3"
  },
  "language_info": {
   "codemirror_mode": {
    "name": "ipython",
    "version": 3
   },
   "file_extension": ".py",
   "mimetype": "text/x-python",
   "name": "python",
   "nbconvert_exporter": "python",
   "pygments_lexer": "ipython3",
   "version": "3.11.5"
  }
 },
 "nbformat": 4,
 "nbformat_minor": 4
}
