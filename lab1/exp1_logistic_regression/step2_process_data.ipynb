{
 "cells": [
  {
   "cell_type": "code",
   "execution_count": 1,
   "metadata": {
    "tags": []
   },
   "outputs": [],
   "source": [
    "import pandas\n",
    "import seaborn\n",
    "import sklearn.preprocessing\n",
    "\n",
    "%matplotlib inline"
   ]
  },
  {
   "cell_type": "code",
   "execution_count": 2,
   "metadata": {},
   "outputs": [],
   "source": [
    "import warnings\n",
    "\n",
    "# Suppress all warnings\n",
    "warnings.filterwarnings(\"ignore\")"
   ]
  },
  {
   "cell_type": "markdown",
   "metadata": {},
   "source": [
    "# Instructions\n",
    "\n",
    "- Read both training and test data from CSV files\n",
    "- Then, identify which columns are numerical and which columns are categorical\n",
    "- Assess whether the data is balance or imbalance"
   ]
  },
  {
   "cell_type": "code",
   "execution_count": 3,
   "metadata": {
    "tags": []
   },
   "outputs": [
    {
     "data": {
      "text/html": [
       "<div>\n",
       "<style scoped>\n",
       "    .dataframe tbody tr th:only-of-type {\n",
       "        vertical-align: middle;\n",
       "    }\n",
       "\n",
       "    .dataframe tbody tr th {\n",
       "        vertical-align: top;\n",
       "    }\n",
       "\n",
       "    .dataframe thead th {\n",
       "        text-align: right;\n",
       "    }\n",
       "</style>\n",
       "<table border=\"1\" class=\"dataframe\">\n",
       "  <thead>\n",
       "    <tr style=\"text-align: right;\">\n",
       "      <th></th>\n",
       "      <th>age</th>\n",
       "      <th>anaemia</th>\n",
       "      <th>creatinine_phosphokinase</th>\n",
       "      <th>diabetes</th>\n",
       "      <th>ejection_fraction</th>\n",
       "      <th>high_blood_pressure</th>\n",
       "      <th>platelets</th>\n",
       "      <th>serum_creatinine</th>\n",
       "      <th>serum_sodium</th>\n",
       "      <th>sex</th>\n",
       "      <th>smoking</th>\n",
       "      <th>time</th>\n",
       "      <th>death_event</th>\n",
       "    </tr>\n",
       "    <tr>\n",
       "      <th>id</th>\n",
       "      <th></th>\n",
       "      <th></th>\n",
       "      <th></th>\n",
       "      <th></th>\n",
       "      <th></th>\n",
       "      <th></th>\n",
       "      <th></th>\n",
       "      <th></th>\n",
       "      <th></th>\n",
       "      <th></th>\n",
       "      <th></th>\n",
       "      <th></th>\n",
       "      <th></th>\n",
       "    </tr>\n",
       "  </thead>\n",
       "  <tbody>\n",
       "    <tr>\n",
       "      <th>258</th>\n",
       "      <td>45.0</td>\n",
       "      <td>yes</td>\n",
       "      <td>66.0</td>\n",
       "      <td>yes</td>\n",
       "      <td>25.0</td>\n",
       "      <td>no</td>\n",
       "      <td>233000.00</td>\n",
       "      <td>0.80</td>\n",
       "      <td>135.0</td>\n",
       "      <td>NaN</td>\n",
       "      <td>no</td>\n",
       "      <td>230.0</td>\n",
       "      <td>no</td>\n",
       "    </tr>\n",
       "    <tr>\n",
       "      <th>37</th>\n",
       "      <td>82.0</td>\n",
       "      <td>yes</td>\n",
       "      <td>855.0</td>\n",
       "      <td>yes</td>\n",
       "      <td>50.0</td>\n",
       "      <td>yes</td>\n",
       "      <td>321000.00</td>\n",
       "      <td>1.00</td>\n",
       "      <td>145.0</td>\n",
       "      <td>female</td>\n",
       "      <td>no</td>\n",
       "      <td>30.0</td>\n",
       "      <td>yes</td>\n",
       "    </tr>\n",
       "    <tr>\n",
       "      <th>97</th>\n",
       "      <td>70.0</td>\n",
       "      <td>yes</td>\n",
       "      <td>59.0</td>\n",
       "      <td>no</td>\n",
       "      <td>60.0</td>\n",
       "      <td>no</td>\n",
       "      <td>255000.00</td>\n",
       "      <td>1.10</td>\n",
       "      <td>136.0</td>\n",
       "      <td>female</td>\n",
       "      <td>no</td>\n",
       "      <td>85.0</td>\n",
       "      <td>no</td>\n",
       "    </tr>\n",
       "    <tr>\n",
       "      <th>191</th>\n",
       "      <td>64.0</td>\n",
       "      <td>yes</td>\n",
       "      <td>62.0</td>\n",
       "      <td>no</td>\n",
       "      <td>60.0</td>\n",
       "      <td>no</td>\n",
       "      <td>309000.00</td>\n",
       "      <td>1.50</td>\n",
       "      <td>135.0</td>\n",
       "      <td>female</td>\n",
       "      <td>no</td>\n",
       "      <td>174.0</td>\n",
       "      <td>no</td>\n",
       "    </tr>\n",
       "    <tr>\n",
       "      <th>135</th>\n",
       "      <td>75.0</td>\n",
       "      <td>no</td>\n",
       "      <td>582.0</td>\n",
       "      <td>no</td>\n",
       "      <td>40.0</td>\n",
       "      <td>no</td>\n",
       "      <td>263358.03</td>\n",
       "      <td>1.18</td>\n",
       "      <td>137.0</td>\n",
       "      <td>male</td>\n",
       "      <td>no</td>\n",
       "      <td>107.0</td>\n",
       "      <td>no</td>\n",
       "    </tr>\n",
       "    <tr>\n",
       "      <th>...</th>\n",
       "      <td>...</td>\n",
       "      <td>...</td>\n",
       "      <td>...</td>\n",
       "      <td>...</td>\n",
       "      <td>...</td>\n",
       "      <td>...</td>\n",
       "      <td>...</td>\n",
       "      <td>...</td>\n",
       "      <td>...</td>\n",
       "      <td>...</td>\n",
       "      <td>...</td>\n",
       "      <td>...</td>\n",
       "      <td>...</td>\n",
       "    </tr>\n",
       "    <tr>\n",
       "      <th>251</th>\n",
       "      <td>55.0</td>\n",
       "      <td>no</td>\n",
       "      <td>572.0</td>\n",
       "      <td>yes</td>\n",
       "      <td>35.0</td>\n",
       "      <td>no</td>\n",
       "      <td>231000.00</td>\n",
       "      <td>0.80</td>\n",
       "      <td>143.0</td>\n",
       "      <td>female</td>\n",
       "      <td>no</td>\n",
       "      <td>215.0</td>\n",
       "      <td>no</td>\n",
       "    </tr>\n",
       "    <tr>\n",
       "      <th>192</th>\n",
       "      <td>50.0</td>\n",
       "      <td>yes</td>\n",
       "      <td>121.0</td>\n",
       "      <td>yes</td>\n",
       "      <td>40.0</td>\n",
       "      <td>no</td>\n",
       "      <td>260000.00</td>\n",
       "      <td>0.70</td>\n",
       "      <td>130.0</td>\n",
       "      <td>male</td>\n",
       "      <td>no</td>\n",
       "      <td>175.0</td>\n",
       "      <td>no</td>\n",
       "    </tr>\n",
       "    <tr>\n",
       "      <th>117</th>\n",
       "      <td>85.0</td>\n",
       "      <td>yes</td>\n",
       "      <td>102.0</td>\n",
       "      <td>no</td>\n",
       "      <td>60.0</td>\n",
       "      <td>no</td>\n",
       "      <td>507000.00</td>\n",
       "      <td>3.20</td>\n",
       "      <td>138.0</td>\n",
       "      <td>female</td>\n",
       "      <td>no</td>\n",
       "      <td>94.0</td>\n",
       "      <td>no</td>\n",
       "    </tr>\n",
       "    <tr>\n",
       "      <th>47</th>\n",
       "      <td>60.0</td>\n",
       "      <td>no</td>\n",
       "      <td>582.0</td>\n",
       "      <td>yes</td>\n",
       "      <td>38.0</td>\n",
       "      <td>yes</td>\n",
       "      <td>451000.00</td>\n",
       "      <td>0.60</td>\n",
       "      <td>NaN</td>\n",
       "      <td>male</td>\n",
       "      <td>yes</td>\n",
       "      <td>40.0</td>\n",
       "      <td>yes</td>\n",
       "    </tr>\n",
       "    <tr>\n",
       "      <th>172</th>\n",
       "      <td>70.0</td>\n",
       "      <td>yes</td>\n",
       "      <td>171.0</td>\n",
       "      <td>no</td>\n",
       "      <td>60.0</td>\n",
       "      <td>yes</td>\n",
       "      <td>176000.00</td>\n",
       "      <td>1.10</td>\n",
       "      <td>145.0</td>\n",
       "      <td>male</td>\n",
       "      <td>yes</td>\n",
       "      <td>146.0</td>\n",
       "      <td>no</td>\n",
       "    </tr>\n",
       "  </tbody>\n",
       "</table>\n",
       "<p>224 rows × 13 columns</p>\n",
       "</div>"
      ],
      "text/plain": [
       "      age anaemia  creatinine_phosphokinase diabetes  ejection_fraction  \\\n",
       "id                                                                        \n",
       "258  45.0     yes                      66.0      yes               25.0   \n",
       "37   82.0     yes                     855.0      yes               50.0   \n",
       "97   70.0     yes                      59.0       no               60.0   \n",
       "191  64.0     yes                      62.0       no               60.0   \n",
       "135  75.0      no                     582.0       no               40.0   \n",
       "..    ...     ...                       ...      ...                ...   \n",
       "251  55.0      no                     572.0      yes               35.0   \n",
       "192  50.0     yes                     121.0      yes               40.0   \n",
       "117  85.0     yes                     102.0       no               60.0   \n",
       "47   60.0      no                     582.0      yes               38.0   \n",
       "172  70.0     yes                     171.0       no               60.0   \n",
       "\n",
       "    high_blood_pressure  platelets  serum_creatinine  serum_sodium     sex  \\\n",
       "id                                                                           \n",
       "258                  no  233000.00              0.80         135.0     NaN   \n",
       "37                  yes  321000.00              1.00         145.0  female   \n",
       "97                   no  255000.00              1.10         136.0  female   \n",
       "191                  no  309000.00              1.50         135.0  female   \n",
       "135                  no  263358.03              1.18         137.0    male   \n",
       "..                  ...        ...               ...           ...     ...   \n",
       "251                  no  231000.00              0.80         143.0  female   \n",
       "192                  no  260000.00              0.70         130.0    male   \n",
       "117                  no  507000.00              3.20         138.0  female   \n",
       "47                  yes  451000.00              0.60           NaN    male   \n",
       "172                 yes  176000.00              1.10         145.0    male   \n",
       "\n",
       "    smoking   time death_event  \n",
       "id                              \n",
       "258      no  230.0          no  \n",
       "37       no   30.0         yes  \n",
       "97       no   85.0          no  \n",
       "191      no  174.0          no  \n",
       "135      no  107.0          no  \n",
       "..      ...    ...         ...  \n",
       "251      no  215.0          no  \n",
       "192      no  175.0          no  \n",
       "117      no   94.0          no  \n",
       "47      yes   40.0         yes  \n",
       "172     yes  146.0          no  \n",
       "\n",
       "[224 rows x 13 columns]"
      ]
     },
     "execution_count": 3,
     "metadata": {},
     "output_type": "execute_result"
    }
   ],
   "source": []
  },
  {
   "cell_type": "code",
   "execution_count": 4,
   "metadata": {
    "tags": []
   },
   "outputs": [
    {
     "data": {
      "text/html": [
       "<div>\n",
       "<style scoped>\n",
       "    .dataframe tbody tr th:only-of-type {\n",
       "        vertical-align: middle;\n",
       "    }\n",
       "\n",
       "    .dataframe tbody tr th {\n",
       "        vertical-align: top;\n",
       "    }\n",
       "\n",
       "    .dataframe thead th {\n",
       "        text-align: right;\n",
       "    }\n",
       "</style>\n",
       "<table border=\"1\" class=\"dataframe\">\n",
       "  <thead>\n",
       "    <tr style=\"text-align: right;\">\n",
       "      <th></th>\n",
       "      <th>age</th>\n",
       "      <th>anaemia</th>\n",
       "      <th>creatinine_phosphokinase</th>\n",
       "      <th>diabetes</th>\n",
       "      <th>ejection_fraction</th>\n",
       "      <th>high_blood_pressure</th>\n",
       "      <th>platelets</th>\n",
       "      <th>serum_creatinine</th>\n",
       "      <th>serum_sodium</th>\n",
       "      <th>sex</th>\n",
       "      <th>smoking</th>\n",
       "      <th>time</th>\n",
       "      <th>death_event</th>\n",
       "    </tr>\n",
       "    <tr>\n",
       "      <th>id</th>\n",
       "      <th></th>\n",
       "      <th></th>\n",
       "      <th></th>\n",
       "      <th></th>\n",
       "      <th></th>\n",
       "      <th></th>\n",
       "      <th></th>\n",
       "      <th></th>\n",
       "      <th></th>\n",
       "      <th></th>\n",
       "      <th></th>\n",
       "      <th></th>\n",
       "      <th></th>\n",
       "    </tr>\n",
       "  </thead>\n",
       "  <tbody>\n",
       "    <tr>\n",
       "      <th>206</th>\n",
       "      <td>40.000</td>\n",
       "      <td>yes</td>\n",
       "      <td>101.0</td>\n",
       "      <td>no</td>\n",
       "      <td>40.0</td>\n",
       "      <td>no</td>\n",
       "      <td>226000.0</td>\n",
       "      <td>0.8</td>\n",
       "      <td>141.0</td>\n",
       "      <td>female</td>\n",
       "      <td>no</td>\n",
       "      <td>187.0</td>\n",
       "      <td>no</td>\n",
       "    </tr>\n",
       "    <tr>\n",
       "      <th>188</th>\n",
       "      <td>60.667</td>\n",
       "      <td>yes</td>\n",
       "      <td>151.0</td>\n",
       "      <td>yes</td>\n",
       "      <td>40.0</td>\n",
       "      <td>yes</td>\n",
       "      <td>201000.0</td>\n",
       "      <td>1.0</td>\n",
       "      <td>136.0</td>\n",
       "      <td>female</td>\n",
       "      <td>no</td>\n",
       "      <td>172.0</td>\n",
       "      <td>no</td>\n",
       "    </tr>\n",
       "    <tr>\n",
       "      <th>12</th>\n",
       "      <td>45.000</td>\n",
       "      <td>yes</td>\n",
       "      <td>981.0</td>\n",
       "      <td>no</td>\n",
       "      <td>30.0</td>\n",
       "      <td>no</td>\n",
       "      <td>136000.0</td>\n",
       "      <td>1.1</td>\n",
       "      <td>137.0</td>\n",
       "      <td>male</td>\n",
       "      <td>no</td>\n",
       "      <td>11.0</td>\n",
       "      <td>yes</td>\n",
       "    </tr>\n",
       "    <tr>\n",
       "      <th>219</th>\n",
       "      <td>55.000</td>\n",
       "      <td>no</td>\n",
       "      <td>582.0</td>\n",
       "      <td>yes</td>\n",
       "      <td>35.0</td>\n",
       "      <td>yes</td>\n",
       "      <td>371000.0</td>\n",
       "      <td>0.7</td>\n",
       "      <td>140.0</td>\n",
       "      <td>female</td>\n",
       "      <td>no</td>\n",
       "      <td>197.0</td>\n",
       "      <td>no</td>\n",
       "    </tr>\n",
       "    <tr>\n",
       "      <th>237</th>\n",
       "      <td>70.000</td>\n",
       "      <td>no</td>\n",
       "      <td>232.0</td>\n",
       "      <td>no</td>\n",
       "      <td>30.0</td>\n",
       "      <td>no</td>\n",
       "      <td>173000.0</td>\n",
       "      <td>1.2</td>\n",
       "      <td>132.0</td>\n",
       "      <td>male</td>\n",
       "      <td>no</td>\n",
       "      <td>210.0</td>\n",
       "      <td>no</td>\n",
       "    </tr>\n",
       "    <tr>\n",
       "      <th>...</th>\n",
       "      <td>...</td>\n",
       "      <td>...</td>\n",
       "      <td>...</td>\n",
       "      <td>...</td>\n",
       "      <td>...</td>\n",
       "      <td>...</td>\n",
       "      <td>...</td>\n",
       "      <td>...</td>\n",
       "      <td>...</td>\n",
       "      <td>...</td>\n",
       "      <td>...</td>\n",
       "      <td>...</td>\n",
       "      <td>...</td>\n",
       "    </tr>\n",
       "    <tr>\n",
       "      <th>156</th>\n",
       "      <td>52.000</td>\n",
       "      <td>yes</td>\n",
       "      <td>58.0</td>\n",
       "      <td>no</td>\n",
       "      <td>35.0</td>\n",
       "      <td>no</td>\n",
       "      <td>277000.0</td>\n",
       "      <td>1.4</td>\n",
       "      <td>136.0</td>\n",
       "      <td>female</td>\n",
       "      <td>no</td>\n",
       "      <td>120.0</td>\n",
       "      <td>no</td>\n",
       "    </tr>\n",
       "    <tr>\n",
       "      <th>226</th>\n",
       "      <td>58.000</td>\n",
       "      <td>yes</td>\n",
       "      <td>57.0</td>\n",
       "      <td>no</td>\n",
       "      <td>25.0</td>\n",
       "      <td>no</td>\n",
       "      <td>189000.0</td>\n",
       "      <td>1.3</td>\n",
       "      <td>132.0</td>\n",
       "      <td>male</td>\n",
       "      <td>yes</td>\n",
       "      <td>205.0</td>\n",
       "      <td>no</td>\n",
       "    </tr>\n",
       "    <tr>\n",
       "      <th>272</th>\n",
       "      <td>67.000</td>\n",
       "      <td>no</td>\n",
       "      <td>213.0</td>\n",
       "      <td>no</td>\n",
       "      <td>38.0</td>\n",
       "      <td>no</td>\n",
       "      <td>215000.0</td>\n",
       "      <td>1.2</td>\n",
       "      <td>133.0</td>\n",
       "      <td>female</td>\n",
       "      <td>no</td>\n",
       "      <td>245.0</td>\n",
       "      <td>no</td>\n",
       "    </tr>\n",
       "    <tr>\n",
       "      <th>27</th>\n",
       "      <td>70.000</td>\n",
       "      <td>no</td>\n",
       "      <td>122.0</td>\n",
       "      <td>yes</td>\n",
       "      <td>45.0</td>\n",
       "      <td>yes</td>\n",
       "      <td>284000.0</td>\n",
       "      <td>1.3</td>\n",
       "      <td>136.0</td>\n",
       "      <td>male</td>\n",
       "      <td>yes</td>\n",
       "      <td>26.0</td>\n",
       "      <td>yes</td>\n",
       "    </tr>\n",
       "    <tr>\n",
       "      <th>144</th>\n",
       "      <td>72.000</td>\n",
       "      <td>yes</td>\n",
       "      <td>943.0</td>\n",
       "      <td>no</td>\n",
       "      <td>25.0</td>\n",
       "      <td>yes</td>\n",
       "      <td>338000.0</td>\n",
       "      <td>1.7</td>\n",
       "      <td>139.0</td>\n",
       "      <td>male</td>\n",
       "      <td>yes</td>\n",
       "      <td>111.0</td>\n",
       "      <td>yes</td>\n",
       "    </tr>\n",
       "  </tbody>\n",
       "</table>\n",
       "<p>75 rows × 13 columns</p>\n",
       "</div>"
      ],
      "text/plain": [
       "        age anaemia  creatinine_phosphokinase diabetes  ejection_fraction  \\\n",
       "id                                                                          \n",
       "206  40.000     yes                     101.0       no               40.0   \n",
       "188  60.667     yes                     151.0      yes               40.0   \n",
       "12   45.000     yes                     981.0       no               30.0   \n",
       "219  55.000      no                     582.0      yes               35.0   \n",
       "237  70.000      no                     232.0       no               30.0   \n",
       "..      ...     ...                       ...      ...                ...   \n",
       "156  52.000     yes                      58.0       no               35.0   \n",
       "226  58.000     yes                      57.0       no               25.0   \n",
       "272  67.000      no                     213.0       no               38.0   \n",
       "27   70.000      no                     122.0      yes               45.0   \n",
       "144  72.000     yes                     943.0       no               25.0   \n",
       "\n",
       "    high_blood_pressure  platelets  serum_creatinine  serum_sodium     sex  \\\n",
       "id                                                                           \n",
       "206                  no   226000.0               0.8         141.0  female   \n",
       "188                 yes   201000.0               1.0         136.0  female   \n",
       "12                   no   136000.0               1.1         137.0    male   \n",
       "219                 yes   371000.0               0.7         140.0  female   \n",
       "237                  no   173000.0               1.2         132.0    male   \n",
       "..                  ...        ...               ...           ...     ...   \n",
       "156                  no   277000.0               1.4         136.0  female   \n",
       "226                  no   189000.0               1.3         132.0    male   \n",
       "272                  no   215000.0               1.2         133.0  female   \n",
       "27                  yes   284000.0               1.3         136.0    male   \n",
       "144                 yes   338000.0               1.7         139.0    male   \n",
       "\n",
       "    smoking   time death_event  \n",
       "id                              \n",
       "206      no  187.0          no  \n",
       "188      no  172.0          no  \n",
       "12       no   11.0         yes  \n",
       "219      no  197.0          no  \n",
       "237      no  210.0          no  \n",
       "..      ...    ...         ...  \n",
       "156      no  120.0          no  \n",
       "226     yes  205.0          no  \n",
       "272      no  245.0          no  \n",
       "27      yes   26.0         yes  \n",
       "144     yes  111.0         yes  \n",
       "\n",
       "[75 rows x 13 columns]"
      ]
     },
     "execution_count": 4,
     "metadata": {},
     "output_type": "execute_result"
    }
   ],
   "source": []
  },
  {
   "cell_type": "code",
   "execution_count": 5,
   "metadata": {
    "tags": []
   },
   "outputs": [
    {
     "data": {
      "text/plain": [
       "age                         float64\n",
       "anaemia                      object\n",
       "creatinine_phosphokinase    float64\n",
       "diabetes                     object\n",
       "ejection_fraction           float64\n",
       "high_blood_pressure          object\n",
       "platelets                   float64\n",
       "serum_creatinine            float64\n",
       "serum_sodium                float64\n",
       "sex                          object\n",
       "smoking                      object\n",
       "time                        float64\n",
       "death_event                  object\n",
       "dtype: object"
      ]
     },
     "execution_count": 5,
     "metadata": {},
     "output_type": "execute_result"
    }
   ],
   "source": []
  },
  {
   "cell_type": "code",
   "execution_count": 6,
   "metadata": {},
   "outputs": [
    {
     "name": "stdout",
     "output_type": "stream",
     "text": [
      "anaemia               2 ['yes' 'no']\n",
      "diabetes              2 ['yes' 'no']\n",
      "high_blood_pressure   2 ['no' 'yes']\n",
      "sex                   3 [nan 'female' 'male']\n",
      "smoking               2 ['no' 'yes']\n",
      "death_event           2 ['no' 'yes']\n"
     ]
    }
   ],
   "source": []
  },
  {
   "cell_type": "code",
   "execution_count": 7,
   "metadata": {},
   "outputs": [
    {
     "data": {
      "text/html": [
       "<div>\n",
       "<style scoped>\n",
       "    .dataframe tbody tr th:only-of-type {\n",
       "        vertical-align: middle;\n",
       "    }\n",
       "\n",
       "    .dataframe tbody tr th {\n",
       "        vertical-align: top;\n",
       "    }\n",
       "\n",
       "    .dataframe thead th {\n",
       "        text-align: right;\n",
       "    }\n",
       "</style>\n",
       "<table border=\"1\" class=\"dataframe\">\n",
       "  <thead>\n",
       "    <tr style=\"text-align: right;\">\n",
       "      <th></th>\n",
       "      <th>age</th>\n",
       "      <th>creatinine_phosphokinase</th>\n",
       "      <th>ejection_fraction</th>\n",
       "      <th>platelets</th>\n",
       "      <th>serum_creatinine</th>\n",
       "      <th>serum_sodium</th>\n",
       "      <th>time</th>\n",
       "    </tr>\n",
       "  </thead>\n",
       "  <tbody>\n",
       "    <tr>\n",
       "      <th>count</th>\n",
       "      <td>224.000000</td>\n",
       "      <td>223.000000</td>\n",
       "      <td>224.000000</td>\n",
       "      <td>223.000000</td>\n",
       "      <td>224.000000</td>\n",
       "      <td>223.000000</td>\n",
       "      <td>224.000000</td>\n",
       "    </tr>\n",
       "    <tr>\n",
       "      <th>mean</th>\n",
       "      <td>60.971728</td>\n",
       "      <td>567.569507</td>\n",
       "      <td>38.040179</td>\n",
       "      <td>267072.585247</td>\n",
       "      <td>1.361562</td>\n",
       "      <td>136.506726</td>\n",
       "      <td>129.066964</td>\n",
       "    </tr>\n",
       "    <tr>\n",
       "      <th>std</th>\n",
       "      <td>11.702196</td>\n",
       "      <td>974.925155</td>\n",
       "      <td>11.591059</td>\n",
       "      <td>100944.412546</td>\n",
       "      <td>0.942147</td>\n",
       "      <td>4.632309</td>\n",
       "      <td>76.759598</td>\n",
       "    </tr>\n",
       "    <tr>\n",
       "      <th>min</th>\n",
       "      <td>40.000000</td>\n",
       "      <td>23.000000</td>\n",
       "      <td>14.000000</td>\n",
       "      <td>25100.000000</td>\n",
       "      <td>0.500000</td>\n",
       "      <td>113.000000</td>\n",
       "      <td>4.000000</td>\n",
       "    </tr>\n",
       "    <tr>\n",
       "      <th>25%</th>\n",
       "      <td>50.750000</td>\n",
       "      <td>116.500000</td>\n",
       "      <td>30.000000</td>\n",
       "      <td>217000.000000</td>\n",
       "      <td>0.900000</td>\n",
       "      <td>134.000000</td>\n",
       "      <td>73.750000</td>\n",
       "    </tr>\n",
       "    <tr>\n",
       "      <th>50%</th>\n",
       "      <td>60.000000</td>\n",
       "      <td>249.000000</td>\n",
       "      <td>38.000000</td>\n",
       "      <td>262000.000000</td>\n",
       "      <td>1.100000</td>\n",
       "      <td>137.000000</td>\n",
       "      <td>114.000000</td>\n",
       "    </tr>\n",
       "    <tr>\n",
       "      <th>75%</th>\n",
       "      <td>70.000000</td>\n",
       "      <td>582.000000</td>\n",
       "      <td>45.000000</td>\n",
       "      <td>304500.000000</td>\n",
       "      <td>1.425000</td>\n",
       "      <td>140.000000</td>\n",
       "      <td>197.750000</td>\n",
       "    </tr>\n",
       "    <tr>\n",
       "      <th>max</th>\n",
       "      <td>94.000000</td>\n",
       "      <td>7861.000000</td>\n",
       "      <td>62.000000</td>\n",
       "      <td>850000.000000</td>\n",
       "      <td>9.400000</td>\n",
       "      <td>148.000000</td>\n",
       "      <td>280.000000</td>\n",
       "    </tr>\n",
       "  </tbody>\n",
       "</table>\n",
       "</div>"
      ],
      "text/plain": [
       "              age  creatinine_phosphokinase  ejection_fraction      platelets  \\\n",
       "count  224.000000                223.000000         224.000000     223.000000   \n",
       "mean    60.971728                567.569507          38.040179  267072.585247   \n",
       "std     11.702196                974.925155          11.591059  100944.412546   \n",
       "min     40.000000                 23.000000          14.000000   25100.000000   \n",
       "25%     50.750000                116.500000          30.000000  217000.000000   \n",
       "50%     60.000000                249.000000          38.000000  262000.000000   \n",
       "75%     70.000000                582.000000          45.000000  304500.000000   \n",
       "max     94.000000               7861.000000          62.000000  850000.000000   \n",
       "\n",
       "       serum_creatinine  serum_sodium        time  \n",
       "count        224.000000    223.000000  224.000000  \n",
       "mean           1.361562    136.506726  129.066964  \n",
       "std            0.942147      4.632309   76.759598  \n",
       "min            0.500000    113.000000    4.000000  \n",
       "25%            0.900000    134.000000   73.750000  \n",
       "50%            1.100000    137.000000  114.000000  \n",
       "75%            1.425000    140.000000  197.750000  \n",
       "max            9.400000    148.000000  280.000000  "
      ]
     },
     "execution_count": 7,
     "metadata": {},
     "output_type": "execute_result"
    }
   ],
   "source": []
  },
  {
   "cell_type": "code",
   "execution_count": 8,
   "metadata": {},
   "outputs": [
    {
     "data": {
      "text/plain": [
       "death_event\n",
       "no     155\n",
       "yes     69\n",
       "Name: count, dtype: int64"
      ]
     },
     "execution_count": 8,
     "metadata": {},
     "output_type": "execute_result"
    }
   ],
   "source": []
  },
  {
   "cell_type": "code",
   "execution_count": 9,
   "metadata": {},
   "outputs": [
    {
     "data": {
      "text/plain": [
       "death_event\n",
       "no     48\n",
       "yes    26\n",
       "Name: count, dtype: int64"
      ]
     },
     "execution_count": 9,
     "metadata": {},
     "output_type": "execute_result"
    }
   ],
   "source": []
  },
  {
   "cell_type": "markdown",
   "metadata": {},
   "source": [
    "# Instructions\n",
    "- Use appropriate plots to visualize all the features in the training data based on class conditional perspective\n",
    "  - Hint: use  `seaborn.countplot`, `seaborn.histplot`\n",
    "- Study the features from the visualizations created"
   ]
  },
  {
   "cell_type": "code",
   "execution_count": 10,
   "metadata": {
    "tags": []
   },
   "outputs": [
    {
     "data": {
      "text/plain": [
       "<Axes: xlabel='count', ylabel='death_event'>"
      ]
     },
     "execution_count": 10,
     "metadata": {},
     "output_type": "execute_result"
    },
    {
     "data": {
      "image/png": "[encoded data removed]",
      "text/plain": [
       "<Figure size 640x480 with 1 Axes>"
      ]
     },
     "metadata": {},
     "output_type": "display_data"
    }
   ],
   "source": []
  },
  {
   "cell_type": "code",
   "execution_count": 11,
   "metadata": {
    "tags": []
   },
   "outputs": [
    {
     "data": {
      "text/plain": [
       "<Axes: xlabel='count', ylabel='death_event'>"
      ]
     },
     "execution_count": 11,
     "metadata": {},
     "output_type": "execute_result"
    },
    {
     "data": {
      "image/png": "[encoded data removed]",
      "text/plain": [
       "<Figure size 640x480 with 1 Axes>"
      ]
     },
     "metadata": {},
     "output_type": "display_data"
    }
   ],
   "source": []
  },
  {
   "cell_type": "code",
   "execution_count": 12,
   "metadata": {
    "tags": []
   },
   "outputs": [
    {
     "data": {
      "text/plain": [
       "<Axes: xlabel='count', ylabel='death_event'>"
      ]
     },
     "execution_count": 12,
     "metadata": {},
     "output_type": "execute_result"
    },
    {
     "data": {
      "image/png": "[encoded data removed]",
      "text/plain": [
       "<Figure size 640x480 with 1 Axes>"
      ]
     },
     "metadata": {},
     "output_type": "display_data"
    }
   ],
   "source": []
  },
  {
   "cell_type": "code",
   "execution_count": 13,
   "metadata": {
    "tags": []
   },
   "outputs": [
    {
     "data": {
      "text/plain": [
       "<Axes: xlabel='count', ylabel='death_event'>"
      ]
     },
     "execution_count": 13,
     "metadata": {},
     "output_type": "execute_result"
    },
    {
     "data": {
      "image/png": "[encoded data removed]",
      "text/plain": [
       "<Figure size 640x480 with 1 Axes>"
      ]
     },
     "metadata": {},
     "output_type": "display_data"
    }
   ],
   "source": []
  },
  {
   "cell_type": "code",
   "execution_count": 14,
   "metadata": {
    "tags": []
   },
   "outputs": [
    {
     "data": {
      "text/plain": [
       "<Axes: xlabel='count', ylabel='death_event'>"
      ]
     },
     "execution_count": 14,
     "metadata": {},
     "output_type": "execute_result"
    },
    {
     "data": {
      "image/png": "[encoded data removed]",
      "text/plain": [
       "<Figure size 640x480 with 1 Axes>"
      ]
     },
     "metadata": {},
     "output_type": "display_data"
    }
   ],
   "source": []
  },
  {
   "cell_type": "code",
   "execution_count": 15,
   "metadata": {
    "tags": []
   },
   "outputs": [
    {
     "data": {
      "text/plain": [
       "<Axes: xlabel='count', ylabel='death_event'>"
      ]
     },
     "execution_count": 15,
     "metadata": {},
     "output_type": "execute_result"
    },
    {
     "data": {
      "image/png": "[encoded data removed]",
      "text/plain": [
       "<Figure size 640x480 with 1 Axes>"
      ]
     },
     "metadata": {},
     "output_type": "display_data"
    }
   ],
   "source": []
  },
  {
   "cell_type": "code",
   "execution_count": 16,
   "metadata": {
    "tags": []
   },
   "outputs": [
    {
     "data": {
      "text/plain": [
       "<Axes: xlabel='age', ylabel='Count'>"
      ]
     },
     "execution_count": 16,
     "metadata": {},
     "output_type": "execute_result"
    },
    {
     "data": {
      "image/png": "[encoded data removed]",
      "text/plain": [
       "<Figure size 640x480 with 1 Axes>"
      ]
     },
     "metadata": {},
     "output_type": "display_data"
    }
   ],
   "source": []
  },
  {
   "cell_type": "code",
   "execution_count": 17,
   "metadata": {
    "tags": []
   },
   "outputs": [
    {
     "data": {
      "text/plain": [
       "<Axes: xlabel='creatinine_phosphokinase', ylabel='Count'>"
      ]
     },
     "execution_count": 17,
     "metadata": {},
     "output_type": "execute_result"
    },
    {
     "data": {
      "image/png": "[encoded data removed]",
      "text/plain": [
       "<Figure size 640x480 with 1 Axes>"
      ]
     },
     "metadata": {},
     "output_type": "display_data"
    }
   ],
   "source": []
  },
  {
   "cell_type": "code",
   "execution_count": 18,
   "metadata": {
    "tags": []
   },
   "outputs": [
    {
     "data": {
      "text/plain": [
       "<Axes: xlabel='ejection_fraction', ylabel='Count'>"
      ]
     },
     "execution_count": 18,
     "metadata": {},
     "output_type": "execute_result"
    },
    {
     "data": {
      "image/png": "[encoded data removed]",
      "text/plain": [
       "<Figure size 640x480 with 1 Axes>"
      ]
     },
     "metadata": {},
     "output_type": "display_data"
    }
   ],
   "source": []
  },
  {
   "cell_type": "code",
   "execution_count": 19,
   "metadata": {
    "tags": []
   },
   "outputs": [
    {
     "data": {
      "text/plain": [
       "<Axes: xlabel='platelets', ylabel='Count'>"
      ]
     },
     "execution_count": 19,
     "metadata": {},
     "output_type": "execute_result"
    },
    {
     "data": {
      "image/png": "[encoded data removed]",
      "text/plain": [
       "<Figure size 640x480 with 1 Axes>"
      ]
     },
     "metadata": {},
     "output_type": "display_data"
    }
   ],
   "source": []
  },
  {
   "cell_type": "code",
   "execution_count": 20,
   "metadata": {
    "tags": []
   },
   "outputs": [
    {
     "data": {
      "text/plain": [
       "<Axes: xlabel='serum_creatinine', ylabel='Count'>"
      ]
     },
     "execution_count": 20,
     "metadata": {},
     "output_type": "execute_result"
    },
    {
     "data": {
      "image/png": "[encoded data removed]",
      "text/plain": [
       "<Figure size 640x480 with 1 Axes>"
      ]
     },
     "metadata": {},
     "output_type": "display_data"
    }
   ],
   "source": []
  },
  {
   "cell_type": "code",
   "execution_count": 21,
   "metadata": {
    "tags": []
   },
   "outputs": [
    {
     "data": {
      "text/plain": [
       "<Axes: xlabel='serum_sodium', ylabel='Count'>"
      ]
     },
     "execution_count": 21,
     "metadata": {},
     "output_type": "execute_result"
    },
    {
     "data": {
      "image/png": "[encoded data removed]",
      "text/plain": [
       "<Figure size 640x480 with 1 Axes>"
      ]
     },
     "metadata": {},
     "output_type": "display_data"
    }
   ],
   "source": []
  },
  {
   "cell_type": "code",
   "execution_count": 22,
   "metadata": {
    "tags": []
   },
   "outputs": [
    {
     "data": {
      "text/plain": [
       "<Axes: xlabel='time', ylabel='Count'>"
      ]
     },
     "execution_count": 22,
     "metadata": {},
     "output_type": "execute_result"
    },
    {
     "data": {
      "image/png": "[encoded data removed]",
      "text/plain": [
       "<Figure size 640x480 with 1 Axes>"
      ]
     },
     "metadata": {},
     "output_type": "display_data"
    }
   ],
   "source": []
  },
  {
   "cell_type": "markdown",
   "metadata": {
    "tags": []
   },
   "source": [
    "# Instructions\n",
    "- Investigate whether the dataset contains any missing data"
   ]
  },
  {
   "cell_type": "code",
   "execution_count": 23,
   "metadata": {
    "tags": []
   },
   "outputs": [
    {
     "data": {
      "text/plain": [
       "age                         0\n",
       "anaemia                     0\n",
       "creatinine_phosphokinase    1\n",
       "diabetes                    0\n",
       "ejection_fraction           0\n",
       "high_blood_pressure         0\n",
       "platelets                   1\n",
       "serum_creatinine            0\n",
       "serum_sodium                1\n",
       "sex                         1\n",
       "smoking                     0\n",
       "time                        0\n",
       "death_event                 0\n",
       "dtype: int64"
      ]
     },
     "execution_count": 23,
     "metadata": {},
     "output_type": "execute_result"
    }
   ],
   "source": []
  },
  {
   "cell_type": "code",
   "execution_count": 24,
   "metadata": {
    "tags": []
   },
   "outputs": [
    {
     "data": {
      "text/plain": [
       "age                         0\n",
       "anaemia                     0\n",
       "creatinine_phosphokinase    0\n",
       "diabetes                    0\n",
       "ejection_fraction           0\n",
       "high_blood_pressure         0\n",
       "platelets                   0\n",
       "serum_creatinine            0\n",
       "serum_sodium                0\n",
       "sex                         0\n",
       "smoking                     0\n",
       "time                        0\n",
       "death_event                 1\n",
       "dtype: int64"
      ]
     },
     "execution_count": 24,
     "metadata": {},
     "output_type": "execute_result"
    }
   ],
   "source": []
  },
  {
   "cell_type": "markdown",
   "metadata": {},
   "source": [
    "# Instructions\n",
    "- Use `.dropna()` to discard all missing data from datasets\n",
    "- Investigate whether there are still any missing data in datasets after using the `.dropna()`"
   ]
  },
  {
   "cell_type": "code",
   "execution_count": 25,
   "metadata": {},
   "outputs": [],
   "source": []
  },
  {
   "cell_type": "code",
   "execution_count": 26,
   "metadata": {},
   "outputs": [
    {
     "data": {
      "text/plain": [
       "age                         0\n",
       "anaemia                     0\n",
       "creatinine_phosphokinase    0\n",
       "diabetes                    0\n",
       "ejection_fraction           0\n",
       "high_blood_pressure         0\n",
       "platelets                   0\n",
       "serum_creatinine            0\n",
       "serum_sodium                0\n",
       "sex                         0\n",
       "smoking                     0\n",
       "time                        0\n",
       "death_event                 0\n",
       "dtype: int64"
      ]
     },
     "execution_count": 26,
     "metadata": {},
     "output_type": "execute_result"
    }
   ],
   "source": []
  },
  {
   "cell_type": "code",
   "execution_count": 27,
   "metadata": {},
   "outputs": [],
   "source": []
  },
  {
   "cell_type": "code",
   "execution_count": 28,
   "metadata": {},
   "outputs": [
    {
     "data": {
      "text/plain": [
       "age                         0\n",
       "anaemia                     0\n",
       "creatinine_phosphokinase    0\n",
       "diabetes                    0\n",
       "ejection_fraction           0\n",
       "high_blood_pressure         0\n",
       "platelets                   0\n",
       "serum_creatinine            0\n",
       "serum_sodium                0\n",
       "sex                         0\n",
       "smoking                     0\n",
       "time                        0\n",
       "death_event                 0\n",
       "dtype: int64"
      ]
     },
     "execution_count": 28,
     "metadata": {},
     "output_type": "execute_result"
    }
   ],
   "source": []
  },
  {
   "cell_type": "markdown",
   "metadata": {},
   "source": [
    "# Instructions\n",
    "- Now, preprocess the data before model training\n",
    "- First, convert categorical features to numerical features\n",
    "- Use `sklearn.preprocessing.OrdinalEncoder` to create an ordinal encoder, then fit using the training data"
   ]
  },
  {
   "cell_type": "code",
   "execution_count": 29,
   "metadata": {},
   "outputs": [
    {
     "data": {
      "text/html": [
       "<style>#sk-container-id-1 {color: black;}#sk-container-id-1 pre{padding: 0;}#sk-container-id-1 div.sk-toggleable {background-color: white;}#sk-container-id-1 label.sk-toggleable__label {cursor: pointer;display: block;width: 100%;margin-bottom: 0;padding: 0.3em;box-sizing: border-box;text-align: center;}#sk-container-id-1 label.sk-toggleable__label-arrow:before {content: \"▸\";float: left;margin-right: 0.25em;color: #696969;}#sk-container-id-1 label.sk-toggleable__label-arrow:hover:before {color: black;}#sk-container-id-1 div.sk-estimator:hover label.sk-toggleable__label-arrow:before {color: black;}#sk-container-id-1 div.sk-toggleable__content {max-height: 0;max-width: 0;overflow: hidden;text-align: left;background-color: #f0f8ff;}#sk-container-id-1 div.sk-toggleable__content pre {margin: 0.2em;color: black;border-radius: 0.25em;background-color: #f0f8ff;}#sk-container-id-1 input.sk-toggleable__control:checked~div.sk-toggleable__content {max-height: 200px;max-width: 100%;overflow: auto;}#sk-container-id-1 input.sk-toggleable__control:checked~label.sk-toggleable__label-arrow:before {content: \"▾\";}#sk-container-id-1 div.sk-estimator input.sk-toggleable__control:checked~label.sk-toggleable__label {background-color: #d4ebff;}#sk-container-id-1 div.sk-label input.sk-toggleable__control:checked~label.sk-toggleable__label {background-color: #d4ebff;}#sk-container-id-1 input.sk-hidden--visually {border: 0;clip: rect(1px 1px 1px 1px);clip: rect(1px, 1px, 1px, 1px);height: 1px;margin: -1px;overflow: hidden;padding: 0;position: absolute;width: 1px;}#sk-container-id-1 div.sk-estimator {font-family: monospace;background-color: #f0f8ff;border: 1px dotted black;border-radius: 0.25em;box-sizing: border-box;margin-bottom: 0.5em;}#sk-container-id-1 div.sk-estimator:hover {background-color: #d4ebff;}#sk-container-id-1 div.sk-parallel-item::after {content: \"\";width: 100%;border-bottom: 1px solid gray;flex-grow: 1;}#sk-container-id-1 div.sk-label:hover label.sk-toggleable__label {background-color: #d4ebff;}#sk-container-id-1 div.sk-serial::before {content: \"\";position: absolute;border-left: 1px solid gray;box-sizing: border-box;top: 0;bottom: 0;left: 50%;z-index: 0;}#sk-container-id-1 div.sk-serial {display: flex;flex-direction: column;align-items: center;background-color: white;padding-right: 0.2em;padding-left: 0.2em;position: relative;}#sk-container-id-1 div.sk-item {position: relative;z-index: 1;}#sk-container-id-1 div.sk-parallel {display: flex;align-items: stretch;justify-content: center;background-color: white;position: relative;}#sk-container-id-1 div.sk-item::before, #sk-container-id-1 div.sk-parallel-item::before {content: \"\";position: absolute;border-left: 1px solid gray;box-sizing: border-box;top: 0;bottom: 0;left: 50%;z-index: -1;}#sk-container-id-1 div.sk-parallel-item {display: flex;flex-direction: column;z-index: 1;position: relative;background-color: white;}#sk-container-id-1 div.sk-parallel-item:first-child::after {align-self: flex-end;width: 50%;}#sk-container-id-1 div.sk-parallel-item:last-child::after {align-self: flex-start;width: 50%;}#sk-container-id-1 div.sk-parallel-item:only-child::after {width: 0;}#sk-container-id-1 div.sk-dashed-wrapped {border: 1px dashed gray;margin: 0 0.4em 0.5em 0.4em;box-sizing: border-box;padding-bottom: 0.4em;background-color: white;}#sk-container-id-1 div.sk-label label {font-family: monospace;font-weight: bold;display: inline-block;line-height: 1.2em;}#sk-container-id-1 div.sk-label-container {text-align: center;}#sk-container-id-1 div.sk-container {/* jupyter's `normalize.less` sets `[hidden] { display: none; }` but bootstrap.min.css set `[hidden] { display: none !important; }` so we also need the `!important` here to be able to override the default hidden behavior on the sphinx rendered scikit-learn.org. See: https://github.com/scikit-learn/scikit-learn/issues/21755 */display: inline-block !important;position: relative;}#sk-container-id-1 div.sk-text-repr-fallback {display: none;}</style><div id=\"sk-container-id-1\" class=\"sk-top-container\"><div class=\"sk-text-repr-fallback\"><pre>OrdinalEncoder()</pre><b>In a Jupyter environment, please rerun this cell to show the HTML representation or trust the notebook. <br />On GitHub, the HTML representation is unable to render, please try loading this page with nbviewer.org.</b></div><div class=\"sk-container\" hidden><div class=\"sk-item\"><div class=\"sk-estimator sk-toggleable\"><input class=\"sk-toggleable__control sk-hidden--visually\" id=\"sk-estimator-id-1\" type=\"checkbox\" checked><label for=\"sk-estimator-id-1\" class=\"sk-toggleable__label sk-toggleable__label-arrow\">OrdinalEncoder</label><div class=\"sk-toggleable__content\"><pre>OrdinalEncoder()</pre></div></div></div></div></div>"
      ],
      "text/plain": [
       "OrdinalEncoder()"
      ]
     },
     "execution_count": 29,
     "metadata": {},
     "output_type": "execute_result"
    }
   ],
   "source": []
  },
  {
   "cell_type": "code",
   "execution_count": 30,
   "metadata": {},
   "outputs": [
    {
     "data": {
      "text/html": [
       "<style>#sk-container-id-2 {color: black;}#sk-container-id-2 pre{padding: 0;}#sk-container-id-2 div.sk-toggleable {background-color: white;}#sk-container-id-2 label.sk-toggleable__label {cursor: pointer;display: block;width: 100%;margin-bottom: 0;padding: 0.3em;box-sizing: border-box;text-align: center;}#sk-container-id-2 label.sk-toggleable__label-arrow:before {content: \"▸\";float: left;margin-right: 0.25em;color: #696969;}#sk-container-id-2 label.sk-toggleable__label-arrow:hover:before {color: black;}#sk-container-id-2 div.sk-estimator:hover label.sk-toggleable__label-arrow:before {color: black;}#sk-container-id-2 div.sk-toggleable__content {max-height: 0;max-width: 0;overflow: hidden;text-align: left;background-color: #f0f8ff;}#sk-container-id-2 div.sk-toggleable__content pre {margin: 0.2em;color: black;border-radius: 0.25em;background-color: #f0f8ff;}#sk-container-id-2 input.sk-toggleable__control:checked~div.sk-toggleable__content {max-height: 200px;max-width: 100%;overflow: auto;}#sk-container-id-2 input.sk-toggleable__control:checked~label.sk-toggleable__label-arrow:before {content: \"▾\";}#sk-container-id-2 div.sk-estimator input.sk-toggleable__control:checked~label.sk-toggleable__label {background-color: #d4ebff;}#sk-container-id-2 div.sk-label input.sk-toggleable__control:checked~label.sk-toggleable__label {background-color: #d4ebff;}#sk-container-id-2 input.sk-hidden--visually {border: 0;clip: rect(1px 1px 1px 1px);clip: rect(1px, 1px, 1px, 1px);height: 1px;margin: -1px;overflow: hidden;padding: 0;position: absolute;width: 1px;}#sk-container-id-2 div.sk-estimator {font-family: monospace;background-color: #f0f8ff;border: 1px dotted black;border-radius: 0.25em;box-sizing: border-box;margin-bottom: 0.5em;}#sk-container-id-2 div.sk-estimator:hover {background-color: #d4ebff;}#sk-container-id-2 div.sk-parallel-item::after {content: \"\";width: 100%;border-bottom: 1px solid gray;flex-grow: 1;}#sk-container-id-2 div.sk-label:hover label.sk-toggleable__label {background-color: #d4ebff;}#sk-container-id-2 div.sk-serial::before {content: \"\";position: absolute;border-left: 1px solid gray;box-sizing: border-box;top: 0;bottom: 0;left: 50%;z-index: 0;}#sk-container-id-2 div.sk-serial {display: flex;flex-direction: column;align-items: center;background-color: white;padding-right: 0.2em;padding-left: 0.2em;position: relative;}#sk-container-id-2 div.sk-item {position: relative;z-index: 1;}#sk-container-id-2 div.sk-parallel {display: flex;align-items: stretch;justify-content: center;background-color: white;position: relative;}#sk-container-id-2 div.sk-item::before, #sk-container-id-2 div.sk-parallel-item::before {content: \"\";position: absolute;border-left: 1px solid gray;box-sizing: border-box;top: 0;bottom: 0;left: 50%;z-index: -1;}#sk-container-id-2 div.sk-parallel-item {display: flex;flex-direction: column;z-index: 1;position: relative;background-color: white;}#sk-container-id-2 div.sk-parallel-item:first-child::after {align-self: flex-end;width: 50%;}#sk-container-id-2 div.sk-parallel-item:last-child::after {align-self: flex-start;width: 50%;}#sk-container-id-2 div.sk-parallel-item:only-child::after {width: 0;}#sk-container-id-2 div.sk-dashed-wrapped {border: 1px dashed gray;margin: 0 0.4em 0.5em 0.4em;box-sizing: border-box;padding-bottom: 0.4em;background-color: white;}#sk-container-id-2 div.sk-label label {font-family: monospace;font-weight: bold;display: inline-block;line-height: 1.2em;}#sk-container-id-2 div.sk-label-container {text-align: center;}#sk-container-id-2 div.sk-container {/* jupyter's `normalize.less` sets `[hidden] { display: none; }` but bootstrap.min.css set `[hidden] { display: none !important; }` so we also need the `!important` here to be able to override the default hidden behavior on the sphinx rendered scikit-learn.org. See: https://github.com/scikit-learn/scikit-learn/issues/21755 */display: inline-block !important;position: relative;}#sk-container-id-2 div.sk-text-repr-fallback {display: none;}</style><div id=\"sk-container-id-2\" class=\"sk-top-container\"><div class=\"sk-text-repr-fallback\"><pre>OrdinalEncoder()</pre><b>In a Jupyter environment, please rerun this cell to show the HTML representation or trust the notebook. <br />On GitHub, the HTML representation is unable to render, please try loading this page with nbviewer.org.</b></div><div class=\"sk-container\" hidden><div class=\"sk-item\"><div class=\"sk-estimator sk-toggleable\"><input class=\"sk-toggleable__control sk-hidden--visually\" id=\"sk-estimator-id-2\" type=\"checkbox\" checked><label for=\"sk-estimator-id-2\" class=\"sk-toggleable__label sk-toggleable__label-arrow\">OrdinalEncoder</label><div class=\"sk-toggleable__content\"><pre>OrdinalEncoder()</pre></div></div></div></div></div>"
      ],
      "text/plain": [
       "OrdinalEncoder()"
      ]
     },
     "execution_count": 30,
     "metadata": {},
     "output_type": "execute_result"
    }
   ],
   "source": []
  },
  {
   "cell_type": "code",
   "execution_count": 31,
   "metadata": {},
   "outputs": [
    {
     "data": {
      "text/plain": [
       "[array(['no', 'yes'], dtype=object),\n",
       " array(['no', 'yes'], dtype=object),\n",
       " array(['no', 'yes'], dtype=object),\n",
       " array(['female', 'male'], dtype=object),\n",
       " array(['no', 'yes'], dtype=object),\n",
       " array(['no', 'yes'], dtype=object)]"
      ]
     },
     "execution_count": 31,
     "metadata": {},
     "output_type": "execute_result"
    }
   ],
   "source": []
  },
  {
   "cell_type": "code",
   "execution_count": 32,
   "metadata": {
    "tags": []
   },
   "outputs": [
    {
     "data": {
      "text/html": [
       "<div>\n",
       "<style scoped>\n",
       "    .dataframe tbody tr th:only-of-type {\n",
       "        vertical-align: middle;\n",
       "    }\n",
       "\n",
       "    .dataframe tbody tr th {\n",
       "        vertical-align: top;\n",
       "    }\n",
       "\n",
       "    .dataframe thead th {\n",
       "        text-align: right;\n",
       "    }\n",
       "</style>\n",
       "<table border=\"1\" class=\"dataframe\">\n",
       "  <thead>\n",
       "    <tr style=\"text-align: right;\">\n",
       "      <th></th>\n",
       "      <th>anaemia</th>\n",
       "      <th>diabetes</th>\n",
       "      <th>high_blood_pressure</th>\n",
       "      <th>sex</th>\n",
       "      <th>smoking</th>\n",
       "      <th>death_event</th>\n",
       "    </tr>\n",
       "    <tr>\n",
       "      <th>id</th>\n",
       "      <th></th>\n",
       "      <th></th>\n",
       "      <th></th>\n",
       "      <th></th>\n",
       "      <th></th>\n",
       "      <th></th>\n",
       "    </tr>\n",
       "  </thead>\n",
       "  <tbody>\n",
       "    <tr>\n",
       "      <th>37</th>\n",
       "      <td>1.0</td>\n",
       "      <td>1.0</td>\n",
       "      <td>1.0</td>\n",
       "      <td>0.0</td>\n",
       "      <td>0.0</td>\n",
       "      <td>1.0</td>\n",
       "    </tr>\n",
       "    <tr>\n",
       "      <th>97</th>\n",
       "      <td>1.0</td>\n",
       "      <td>0.0</td>\n",
       "      <td>0.0</td>\n",
       "      <td>0.0</td>\n",
       "      <td>0.0</td>\n",
       "      <td>0.0</td>\n",
       "    </tr>\n",
       "    <tr>\n",
       "      <th>191</th>\n",
       "      <td>1.0</td>\n",
       "      <td>0.0</td>\n",
       "      <td>0.0</td>\n",
       "      <td>0.0</td>\n",
       "      <td>0.0</td>\n",
       "      <td>0.0</td>\n",
       "    </tr>\n",
       "    <tr>\n",
       "      <th>135</th>\n",
       "      <td>0.0</td>\n",
       "      <td>0.0</td>\n",
       "      <td>0.0</td>\n",
       "      <td>1.0</td>\n",
       "      <td>0.0</td>\n",
       "      <td>0.0</td>\n",
       "    </tr>\n",
       "    <tr>\n",
       "      <th>118</th>\n",
       "      <td>1.0</td>\n",
       "      <td>1.0</td>\n",
       "      <td>1.0</td>\n",
       "      <td>0.0</td>\n",
       "      <td>0.0</td>\n",
       "      <td>0.0</td>\n",
       "    </tr>\n",
       "    <tr>\n",
       "      <th>...</th>\n",
       "      <td>...</td>\n",
       "      <td>...</td>\n",
       "      <td>...</td>\n",
       "      <td>...</td>\n",
       "      <td>...</td>\n",
       "      <td>...</td>\n",
       "    </tr>\n",
       "    <tr>\n",
       "      <th>195</th>\n",
       "      <td>1.0</td>\n",
       "      <td>0.0</td>\n",
       "      <td>0.0</td>\n",
       "      <td>1.0</td>\n",
       "      <td>0.0</td>\n",
       "      <td>1.0</td>\n",
       "    </tr>\n",
       "    <tr>\n",
       "      <th>251</th>\n",
       "      <td>0.0</td>\n",
       "      <td>1.0</td>\n",
       "      <td>0.0</td>\n",
       "      <td>0.0</td>\n",
       "      <td>0.0</td>\n",
       "      <td>0.0</td>\n",
       "    </tr>\n",
       "    <tr>\n",
       "      <th>192</th>\n",
       "      <td>1.0</td>\n",
       "      <td>1.0</td>\n",
       "      <td>0.0</td>\n",
       "      <td>1.0</td>\n",
       "      <td>0.0</td>\n",
       "      <td>0.0</td>\n",
       "    </tr>\n",
       "    <tr>\n",
       "      <th>117</th>\n",
       "      <td>1.0</td>\n",
       "      <td>0.0</td>\n",
       "      <td>0.0</td>\n",
       "      <td>0.0</td>\n",
       "      <td>0.0</td>\n",
       "      <td>0.0</td>\n",
       "    </tr>\n",
       "    <tr>\n",
       "      <th>172</th>\n",
       "      <td>1.0</td>\n",
       "      <td>0.0</td>\n",
       "      <td>1.0</td>\n",
       "      <td>1.0</td>\n",
       "      <td>1.0</td>\n",
       "      <td>0.0</td>\n",
       "    </tr>\n",
       "  </tbody>\n",
       "</table>\n",
       "<p>220 rows × 6 columns</p>\n",
       "</div>"
      ],
      "text/plain": [
       "     anaemia  diabetes  high_blood_pressure  sex  smoking  death_event\n",
       "id                                                                    \n",
       "37       1.0       1.0                  1.0  0.0      0.0          1.0\n",
       "97       1.0       0.0                  0.0  0.0      0.0          0.0\n",
       "191      1.0       0.0                  0.0  0.0      0.0          0.0\n",
       "135      0.0       0.0                  0.0  1.0      0.0          0.0\n",
       "118      1.0       1.0                  1.0  0.0      0.0          0.0\n",
       "..       ...       ...                  ...  ...      ...          ...\n",
       "195      1.0       0.0                  0.0  1.0      0.0          1.0\n",
       "251      0.0       1.0                  0.0  0.0      0.0          0.0\n",
       "192      1.0       1.0                  0.0  1.0      0.0          0.0\n",
       "117      1.0       0.0                  0.0  0.0      0.0          0.0\n",
       "172      1.0       0.0                  1.0  1.0      1.0          0.0\n",
       "\n",
       "[220 rows x 6 columns]"
      ]
     },
     "execution_count": 32,
     "metadata": {},
     "output_type": "execute_result"
    }
   ],
   "source": []
  },
  {
   "cell_type": "code",
   "execution_count": 33,
   "metadata": {},
   "outputs": [
    {
     "data": {
      "text/html": [
       "<div>\n",
       "<style scoped>\n",
       "    .dataframe tbody tr th:only-of-type {\n",
       "        vertical-align: middle;\n",
       "    }\n",
       "\n",
       "    .dataframe tbody tr th {\n",
       "        vertical-align: top;\n",
       "    }\n",
       "\n",
       "    .dataframe thead th {\n",
       "        text-align: right;\n",
       "    }\n",
       "</style>\n",
       "<table border=\"1\" class=\"dataframe\">\n",
       "  <thead>\n",
       "    <tr style=\"text-align: right;\">\n",
       "      <th></th>\n",
       "      <th>anaemia</th>\n",
       "      <th>diabetes</th>\n",
       "      <th>high_blood_pressure</th>\n",
       "      <th>sex</th>\n",
       "      <th>smoking</th>\n",
       "      <th>death_event</th>\n",
       "    </tr>\n",
       "    <tr>\n",
       "      <th>id</th>\n",
       "      <th></th>\n",
       "      <th></th>\n",
       "      <th></th>\n",
       "      <th></th>\n",
       "      <th></th>\n",
       "      <th></th>\n",
       "    </tr>\n",
       "  </thead>\n",
       "  <tbody>\n",
       "    <tr>\n",
       "      <th>206</th>\n",
       "      <td>1.0</td>\n",
       "      <td>0.0</td>\n",
       "      <td>0.0</td>\n",
       "      <td>0.0</td>\n",
       "      <td>0.0</td>\n",
       "      <td>0.0</td>\n",
       "    </tr>\n",
       "    <tr>\n",
       "      <th>188</th>\n",
       "      <td>1.0</td>\n",
       "      <td>1.0</td>\n",
       "      <td>1.0</td>\n",
       "      <td>0.0</td>\n",
       "      <td>0.0</td>\n",
       "      <td>0.0</td>\n",
       "    </tr>\n",
       "    <tr>\n",
       "      <th>12</th>\n",
       "      <td>1.0</td>\n",
       "      <td>0.0</td>\n",
       "      <td>0.0</td>\n",
       "      <td>1.0</td>\n",
       "      <td>0.0</td>\n",
       "      <td>1.0</td>\n",
       "    </tr>\n",
       "    <tr>\n",
       "      <th>219</th>\n",
       "      <td>0.0</td>\n",
       "      <td>1.0</td>\n",
       "      <td>1.0</td>\n",
       "      <td>0.0</td>\n",
       "      <td>0.0</td>\n",
       "      <td>0.0</td>\n",
       "    </tr>\n",
       "    <tr>\n",
       "      <th>237</th>\n",
       "      <td>0.0</td>\n",
       "      <td>0.0</td>\n",
       "      <td>0.0</td>\n",
       "      <td>1.0</td>\n",
       "      <td>0.0</td>\n",
       "      <td>0.0</td>\n",
       "    </tr>\n",
       "    <tr>\n",
       "      <th>...</th>\n",
       "      <td>...</td>\n",
       "      <td>...</td>\n",
       "      <td>...</td>\n",
       "      <td>...</td>\n",
       "      <td>...</td>\n",
       "      <td>...</td>\n",
       "    </tr>\n",
       "    <tr>\n",
       "      <th>156</th>\n",
       "      <td>1.0</td>\n",
       "      <td>0.0</td>\n",
       "      <td>0.0</td>\n",
       "      <td>0.0</td>\n",
       "      <td>0.0</td>\n",
       "      <td>0.0</td>\n",
       "    </tr>\n",
       "    <tr>\n",
       "      <th>226</th>\n",
       "      <td>1.0</td>\n",
       "      <td>0.0</td>\n",
       "      <td>0.0</td>\n",
       "      <td>1.0</td>\n",
       "      <td>1.0</td>\n",
       "      <td>0.0</td>\n",
       "    </tr>\n",
       "    <tr>\n",
       "      <th>272</th>\n",
       "      <td>0.0</td>\n",
       "      <td>0.0</td>\n",
       "      <td>0.0</td>\n",
       "      <td>0.0</td>\n",
       "      <td>0.0</td>\n",
       "      <td>0.0</td>\n",
       "    </tr>\n",
       "    <tr>\n",
       "      <th>27</th>\n",
       "      <td>0.0</td>\n",
       "      <td>1.0</td>\n",
       "      <td>1.0</td>\n",
       "      <td>1.0</td>\n",
       "      <td>1.0</td>\n",
       "      <td>1.0</td>\n",
       "    </tr>\n",
       "    <tr>\n",
       "      <th>144</th>\n",
       "      <td>1.0</td>\n",
       "      <td>0.0</td>\n",
       "      <td>1.0</td>\n",
       "      <td>1.0</td>\n",
       "      <td>1.0</td>\n",
       "      <td>1.0</td>\n",
       "    </tr>\n",
       "  </tbody>\n",
       "</table>\n",
       "<p>74 rows × 6 columns</p>\n",
       "</div>"
      ],
      "text/plain": [
       "     anaemia  diabetes  high_blood_pressure  sex  smoking  death_event\n",
       "id                                                                    \n",
       "206      1.0       0.0                  0.0  0.0      0.0          0.0\n",
       "188      1.0       1.0                  1.0  0.0      0.0          0.0\n",
       "12       1.0       0.0                  0.0  1.0      0.0          1.0\n",
       "219      0.0       1.0                  1.0  0.0      0.0          0.0\n",
       "237      0.0       0.0                  0.0  1.0      0.0          0.0\n",
       "..       ...       ...                  ...  ...      ...          ...\n",
       "156      1.0       0.0                  0.0  0.0      0.0          0.0\n",
       "226      1.0       0.0                  0.0  1.0      1.0          0.0\n",
       "272      0.0       0.0                  0.0  0.0      0.0          0.0\n",
       "27       0.0       1.0                  1.0  1.0      1.0          1.0\n",
       "144      1.0       0.0                  1.0  1.0      1.0          1.0\n",
       "\n",
       "[74 rows x 6 columns]"
      ]
     },
     "execution_count": 33,
     "metadata": {},
     "output_type": "execute_result"
    }
   ],
   "source": []
  },
  {
   "cell_type": "markdown",
   "metadata": {},
   "source": [
    "# Instructions\n",
    "- Use `.join` to reconstruct the processed training and test data"
   ]
  },
  {
   "cell_type": "code",
   "execution_count": 34,
   "metadata": {},
   "outputs": [
    {
     "data": {
      "text/html": [
       "<div>\n",
       "<style scoped>\n",
       "    .dataframe tbody tr th:only-of-type {\n",
       "        vertical-align: middle;\n",
       "    }\n",
       "\n",
       "    .dataframe tbody tr th {\n",
       "        vertical-align: top;\n",
       "    }\n",
       "\n",
       "    .dataframe thead th {\n",
       "        text-align: right;\n",
       "    }\n",
       "</style>\n",
       "<table border=\"1\" class=\"dataframe\">\n",
       "  <thead>\n",
       "    <tr style=\"text-align: right;\">\n",
       "      <th></th>\n",
       "      <th>anaemia</th>\n",
       "      <th>diabetes</th>\n",
       "      <th>high_blood_pressure</th>\n",
       "      <th>sex</th>\n",
       "      <th>smoking</th>\n",
       "      <th>death_event</th>\n",
       "      <th>age</th>\n",
       "      <th>creatinine_phosphokinase</th>\n",
       "      <th>ejection_fraction</th>\n",
       "      <th>platelets</th>\n",
       "      <th>serum_creatinine</th>\n",
       "      <th>serum_sodium</th>\n",
       "      <th>time</th>\n",
       "    </tr>\n",
       "    <tr>\n",
       "      <th>id</th>\n",
       "      <th></th>\n",
       "      <th></th>\n",
       "      <th></th>\n",
       "      <th></th>\n",
       "      <th></th>\n",
       "      <th></th>\n",
       "      <th></th>\n",
       "      <th></th>\n",
       "      <th></th>\n",
       "      <th></th>\n",
       "      <th></th>\n",
       "      <th></th>\n",
       "      <th></th>\n",
       "    </tr>\n",
       "  </thead>\n",
       "  <tbody>\n",
       "    <tr>\n",
       "      <th>37</th>\n",
       "      <td>1.0</td>\n",
       "      <td>1.0</td>\n",
       "      <td>1.0</td>\n",
       "      <td>0.0</td>\n",
       "      <td>0.0</td>\n",
       "      <td>1.0</td>\n",
       "      <td>82.0</td>\n",
       "      <td>855.0</td>\n",
       "      <td>50.0</td>\n",
       "      <td>321000.00</td>\n",
       "      <td>1.00</td>\n",
       "      <td>145.0</td>\n",
       "      <td>30.0</td>\n",
       "    </tr>\n",
       "    <tr>\n",
       "      <th>97</th>\n",
       "      <td>1.0</td>\n",
       "      <td>0.0</td>\n",
       "      <td>0.0</td>\n",
       "      <td>0.0</td>\n",
       "      <td>0.0</td>\n",
       "      <td>0.0</td>\n",
       "      <td>70.0</td>\n",
       "      <td>59.0</td>\n",
       "      <td>60.0</td>\n",
       "      <td>255000.00</td>\n",
       "      <td>1.10</td>\n",
       "      <td>136.0</td>\n",
       "      <td>85.0</td>\n",
       "    </tr>\n",
       "    <tr>\n",
       "      <th>191</th>\n",
       "      <td>1.0</td>\n",
       "      <td>0.0</td>\n",
       "      <td>0.0</td>\n",
       "      <td>0.0</td>\n",
       "      <td>0.0</td>\n",
       "      <td>0.0</td>\n",
       "      <td>64.0</td>\n",
       "      <td>62.0</td>\n",
       "      <td>60.0</td>\n",
       "      <td>309000.00</td>\n",
       "      <td>1.50</td>\n",
       "      <td>135.0</td>\n",
       "      <td>174.0</td>\n",
       "    </tr>\n",
       "    <tr>\n",
       "      <th>135</th>\n",
       "      <td>0.0</td>\n",
       "      <td>0.0</td>\n",
       "      <td>0.0</td>\n",
       "      <td>1.0</td>\n",
       "      <td>0.0</td>\n",
       "      <td>0.0</td>\n",
       "      <td>75.0</td>\n",
       "      <td>582.0</td>\n",
       "      <td>40.0</td>\n",
       "      <td>263358.03</td>\n",
       "      <td>1.18</td>\n",
       "      <td>137.0</td>\n",
       "      <td>107.0</td>\n",
       "    </tr>\n",
       "    <tr>\n",
       "      <th>118</th>\n",
       "      <td>1.0</td>\n",
       "      <td>1.0</td>\n",
       "      <td>1.0</td>\n",
       "      <td>0.0</td>\n",
       "      <td>0.0</td>\n",
       "      <td>0.0</td>\n",
       "      <td>65.0</td>\n",
       "      <td>113.0</td>\n",
       "      <td>60.0</td>\n",
       "      <td>203000.00</td>\n",
       "      <td>0.90</td>\n",
       "      <td>140.0</td>\n",
       "      <td>94.0</td>\n",
       "    </tr>\n",
       "    <tr>\n",
       "      <th>...</th>\n",
       "      <td>...</td>\n",
       "      <td>...</td>\n",
       "      <td>...</td>\n",
       "      <td>...</td>\n",
       "      <td>...</td>\n",
       "      <td>...</td>\n",
       "      <td>...</td>\n",
       "      <td>...</td>\n",
       "      <td>...</td>\n",
       "      <td>...</td>\n",
       "      <td>...</td>\n",
       "      <td>...</td>\n",
       "      <td>...</td>\n",
       "    </tr>\n",
       "    <tr>\n",
       "      <th>195</th>\n",
       "      <td>1.0</td>\n",
       "      <td>0.0</td>\n",
       "      <td>0.0</td>\n",
       "      <td>1.0</td>\n",
       "      <td>0.0</td>\n",
       "      <td>1.0</td>\n",
       "      <td>77.0</td>\n",
       "      <td>418.0</td>\n",
       "      <td>45.0</td>\n",
       "      <td>223000.00</td>\n",
       "      <td>1.80</td>\n",
       "      <td>145.0</td>\n",
       "      <td>180.0</td>\n",
       "    </tr>\n",
       "    <tr>\n",
       "      <th>251</th>\n",
       "      <td>0.0</td>\n",
       "      <td>1.0</td>\n",
       "      <td>0.0</td>\n",
       "      <td>0.0</td>\n",
       "      <td>0.0</td>\n",
       "      <td>0.0</td>\n",
       "      <td>55.0</td>\n",
       "      <td>572.0</td>\n",
       "      <td>35.0</td>\n",
       "      <td>231000.00</td>\n",
       "      <td>0.80</td>\n",
       "      <td>143.0</td>\n",
       "      <td>215.0</td>\n",
       "    </tr>\n",
       "    <tr>\n",
       "      <th>192</th>\n",
       "      <td>1.0</td>\n",
       "      <td>1.0</td>\n",
       "      <td>0.0</td>\n",
       "      <td>1.0</td>\n",
       "      <td>0.0</td>\n",
       "      <td>0.0</td>\n",
       "      <td>50.0</td>\n",
       "      <td>121.0</td>\n",
       "      <td>40.0</td>\n",
       "      <td>260000.00</td>\n",
       "      <td>0.70</td>\n",
       "      <td>130.0</td>\n",
       "      <td>175.0</td>\n",
       "    </tr>\n",
       "    <tr>\n",
       "      <th>117</th>\n",
       "      <td>1.0</td>\n",
       "      <td>0.0</td>\n",
       "      <td>0.0</td>\n",
       "      <td>0.0</td>\n",
       "      <td>0.0</td>\n",
       "      <td>0.0</td>\n",
       "      <td>85.0</td>\n",
       "      <td>102.0</td>\n",
       "      <td>60.0</td>\n",
       "      <td>507000.00</td>\n",
       "      <td>3.20</td>\n",
       "      <td>138.0</td>\n",
       "      <td>94.0</td>\n",
       "    </tr>\n",
       "    <tr>\n",
       "      <th>172</th>\n",
       "      <td>1.0</td>\n",
       "      <td>0.0</td>\n",
       "      <td>1.0</td>\n",
       "      <td>1.0</td>\n",
       "      <td>1.0</td>\n",
       "      <td>0.0</td>\n",
       "      <td>70.0</td>\n",
       "      <td>171.0</td>\n",
       "      <td>60.0</td>\n",
       "      <td>176000.00</td>\n",
       "      <td>1.10</td>\n",
       "      <td>145.0</td>\n",
       "      <td>146.0</td>\n",
       "    </tr>\n",
       "  </tbody>\n",
       "</table>\n",
       "<p>220 rows × 13 columns</p>\n",
       "</div>"
      ],
      "text/plain": [
       "     anaemia  diabetes  high_blood_pressure  sex  smoking  death_event   age  \\\n",
       "id                                                                             \n",
       "37       1.0       1.0                  1.0  0.0      0.0          1.0  82.0   \n",
       "97       1.0       0.0                  0.0  0.0      0.0          0.0  70.0   \n",
       "191      1.0       0.0                  0.0  0.0      0.0          0.0  64.0   \n",
       "135      0.0       0.0                  0.0  1.0      0.0          0.0  75.0   \n",
       "118      1.0       1.0                  1.0  0.0      0.0          0.0  65.0   \n",
       "..       ...       ...                  ...  ...      ...          ...   ...   \n",
       "195      1.0       0.0                  0.0  1.0      0.0          1.0  77.0   \n",
       "251      0.0       1.0                  0.0  0.0      0.0          0.0  55.0   \n",
       "192      1.0       1.0                  0.0  1.0      0.0          0.0  50.0   \n",
       "117      1.0       0.0                  0.0  0.0      0.0          0.0  85.0   \n",
       "172      1.0       0.0                  1.0  1.0      1.0          0.0  70.0   \n",
       "\n",
       "     creatinine_phosphokinase  ejection_fraction  platelets  serum_creatinine  \\\n",
       "id                                                                              \n",
       "37                      855.0               50.0  321000.00              1.00   \n",
       "97                       59.0               60.0  255000.00              1.10   \n",
       "191                      62.0               60.0  309000.00              1.50   \n",
       "135                     582.0               40.0  263358.03              1.18   \n",
       "118                     113.0               60.0  203000.00              0.90   \n",
       "..                        ...                ...        ...               ...   \n",
       "195                     418.0               45.0  223000.00              1.80   \n",
       "251                     572.0               35.0  231000.00              0.80   \n",
       "192                     121.0               40.0  260000.00              0.70   \n",
       "117                     102.0               60.0  507000.00              3.20   \n",
       "172                     171.0               60.0  176000.00              1.10   \n",
       "\n",
       "     serum_sodium   time  \n",
       "id                        \n",
       "37          145.0   30.0  \n",
       "97          136.0   85.0  \n",
       "191         135.0  174.0  \n",
       "135         137.0  107.0  \n",
       "118         140.0   94.0  \n",
       "..            ...    ...  \n",
       "195         145.0  180.0  \n",
       "251         143.0  215.0  \n",
       "192         130.0  175.0  \n",
       "117         138.0   94.0  \n",
       "172         145.0  146.0  \n",
       "\n",
       "[220 rows x 13 columns]"
      ]
     },
     "execution_count": 34,
     "metadata": {},
     "output_type": "execute_result"
    }
   ],
   "source": []
  },
  {
   "cell_type": "code",
   "execution_count": 35,
   "metadata": {},
   "outputs": [
    {
     "data": {
      "text/html": [
       "<div>\n",
       "<style scoped>\n",
       "    .dataframe tbody tr th:only-of-type {\n",
       "        vertical-align: middle;\n",
       "    }\n",
       "\n",
       "    .dataframe tbody tr th {\n",
       "        vertical-align: top;\n",
       "    }\n",
       "\n",
       "    .dataframe thead th {\n",
       "        text-align: right;\n",
       "    }\n",
       "</style>\n",
       "<table border=\"1\" class=\"dataframe\">\n",
       "  <thead>\n",
       "    <tr style=\"text-align: right;\">\n",
       "      <th></th>\n",
       "      <th>anaemia</th>\n",
       "      <th>diabetes</th>\n",
       "      <th>high_blood_pressure</th>\n",
       "      <th>sex</th>\n",
       "      <th>smoking</th>\n",
       "      <th>death_event</th>\n",
       "      <th>age</th>\n",
       "      <th>creatinine_phosphokinase</th>\n",
       "      <th>ejection_fraction</th>\n",
       "      <th>platelets</th>\n",
       "      <th>serum_creatinine</th>\n",
       "      <th>serum_sodium</th>\n",
       "      <th>time</th>\n",
       "    </tr>\n",
       "    <tr>\n",
       "      <th>id</th>\n",
       "      <th></th>\n",
       "      <th></th>\n",
       "      <th></th>\n",
       "      <th></th>\n",
       "      <th></th>\n",
       "      <th></th>\n",
       "      <th></th>\n",
       "      <th></th>\n",
       "      <th></th>\n",
       "      <th></th>\n",
       "      <th></th>\n",
       "      <th></th>\n",
       "      <th></th>\n",
       "    </tr>\n",
       "  </thead>\n",
       "  <tbody>\n",
       "    <tr>\n",
       "      <th>206</th>\n",
       "      <td>1.0</td>\n",
       "      <td>0.0</td>\n",
       "      <td>0.0</td>\n",
       "      <td>0.0</td>\n",
       "      <td>0.0</td>\n",
       "      <td>0.0</td>\n",
       "      <td>40.000</td>\n",
       "      <td>101.0</td>\n",
       "      <td>40.0</td>\n",
       "      <td>226000.0</td>\n",
       "      <td>0.8</td>\n",
       "      <td>141.0</td>\n",
       "      <td>187.0</td>\n",
       "    </tr>\n",
       "    <tr>\n",
       "      <th>188</th>\n",
       "      <td>1.0</td>\n",
       "      <td>1.0</td>\n",
       "      <td>1.0</td>\n",
       "      <td>0.0</td>\n",
       "      <td>0.0</td>\n",
       "      <td>0.0</td>\n",
       "      <td>60.667</td>\n",
       "      <td>151.0</td>\n",
       "      <td>40.0</td>\n",
       "      <td>201000.0</td>\n",
       "      <td>1.0</td>\n",
       "      <td>136.0</td>\n",
       "      <td>172.0</td>\n",
       "    </tr>\n",
       "    <tr>\n",
       "      <th>12</th>\n",
       "      <td>1.0</td>\n",
       "      <td>0.0</td>\n",
       "      <td>0.0</td>\n",
       "      <td>1.0</td>\n",
       "      <td>0.0</td>\n",
       "      <td>1.0</td>\n",
       "      <td>45.000</td>\n",
       "      <td>981.0</td>\n",
       "      <td>30.0</td>\n",
       "      <td>136000.0</td>\n",
       "      <td>1.1</td>\n",
       "      <td>137.0</td>\n",
       "      <td>11.0</td>\n",
       "    </tr>\n",
       "    <tr>\n",
       "      <th>219</th>\n",
       "      <td>0.0</td>\n",
       "      <td>1.0</td>\n",
       "      <td>1.0</td>\n",
       "      <td>0.0</td>\n",
       "      <td>0.0</td>\n",
       "      <td>0.0</td>\n",
       "      <td>55.000</td>\n",
       "      <td>582.0</td>\n",
       "      <td>35.0</td>\n",
       "      <td>371000.0</td>\n",
       "      <td>0.7</td>\n",
       "      <td>140.0</td>\n",
       "      <td>197.0</td>\n",
       "    </tr>\n",
       "    <tr>\n",
       "      <th>237</th>\n",
       "      <td>0.0</td>\n",
       "      <td>0.0</td>\n",
       "      <td>0.0</td>\n",
       "      <td>1.0</td>\n",
       "      <td>0.0</td>\n",
       "      <td>0.0</td>\n",
       "      <td>70.000</td>\n",
       "      <td>232.0</td>\n",
       "      <td>30.0</td>\n",
       "      <td>173000.0</td>\n",
       "      <td>1.2</td>\n",
       "      <td>132.0</td>\n",
       "      <td>210.0</td>\n",
       "    </tr>\n",
       "    <tr>\n",
       "      <th>...</th>\n",
       "      <td>...</td>\n",
       "      <td>...</td>\n",
       "      <td>...</td>\n",
       "      <td>...</td>\n",
       "      <td>...</td>\n",
       "      <td>...</td>\n",
       "      <td>...</td>\n",
       "      <td>...</td>\n",
       "      <td>...</td>\n",
       "      <td>...</td>\n",
       "      <td>...</td>\n",
       "      <td>...</td>\n",
       "      <td>...</td>\n",
       "    </tr>\n",
       "    <tr>\n",
       "      <th>156</th>\n",
       "      <td>1.0</td>\n",
       "      <td>0.0</td>\n",
       "      <td>0.0</td>\n",
       "      <td>0.0</td>\n",
       "      <td>0.0</td>\n",
       "      <td>0.0</td>\n",
       "      <td>52.000</td>\n",
       "      <td>58.0</td>\n",
       "      <td>35.0</td>\n",
       "      <td>277000.0</td>\n",
       "      <td>1.4</td>\n",
       "      <td>136.0</td>\n",
       "      <td>120.0</td>\n",
       "    </tr>\n",
       "    <tr>\n",
       "      <th>226</th>\n",
       "      <td>1.0</td>\n",
       "      <td>0.0</td>\n",
       "      <td>0.0</td>\n",
       "      <td>1.0</td>\n",
       "      <td>1.0</td>\n",
       "      <td>0.0</td>\n",
       "      <td>58.000</td>\n",
       "      <td>57.0</td>\n",
       "      <td>25.0</td>\n",
       "      <td>189000.0</td>\n",
       "      <td>1.3</td>\n",
       "      <td>132.0</td>\n",
       "      <td>205.0</td>\n",
       "    </tr>\n",
       "    <tr>\n",
       "      <th>272</th>\n",
       "      <td>0.0</td>\n",
       "      <td>0.0</td>\n",
       "      <td>0.0</td>\n",
       "      <td>0.0</td>\n",
       "      <td>0.0</td>\n",
       "      <td>0.0</td>\n",
       "      <td>67.000</td>\n",
       "      <td>213.0</td>\n",
       "      <td>38.0</td>\n",
       "      <td>215000.0</td>\n",
       "      <td>1.2</td>\n",
       "      <td>133.0</td>\n",
       "      <td>245.0</td>\n",
       "    </tr>\n",
       "    <tr>\n",
       "      <th>27</th>\n",
       "      <td>0.0</td>\n",
       "      <td>1.0</td>\n",
       "      <td>1.0</td>\n",
       "      <td>1.0</td>\n",
       "      <td>1.0</td>\n",
       "      <td>1.0</td>\n",
       "      <td>70.000</td>\n",
       "      <td>122.0</td>\n",
       "      <td>45.0</td>\n",
       "      <td>284000.0</td>\n",
       "      <td>1.3</td>\n",
       "      <td>136.0</td>\n",
       "      <td>26.0</td>\n",
       "    </tr>\n",
       "    <tr>\n",
       "      <th>144</th>\n",
       "      <td>1.0</td>\n",
       "      <td>0.0</td>\n",
       "      <td>1.0</td>\n",
       "      <td>1.0</td>\n",
       "      <td>1.0</td>\n",
       "      <td>1.0</td>\n",
       "      <td>72.000</td>\n",
       "      <td>943.0</td>\n",
       "      <td>25.0</td>\n",
       "      <td>338000.0</td>\n",
       "      <td>1.7</td>\n",
       "      <td>139.0</td>\n",
       "      <td>111.0</td>\n",
       "    </tr>\n",
       "  </tbody>\n",
       "</table>\n",
       "<p>74 rows × 13 columns</p>\n",
       "</div>"
      ],
      "text/plain": [
       "     anaemia  diabetes  high_blood_pressure  sex  smoking  death_event  \\\n",
       "id                                                                       \n",
       "206      1.0       0.0                  0.0  0.0      0.0          0.0   \n",
       "188      1.0       1.0                  1.0  0.0      0.0          0.0   \n",
       "12       1.0       0.0                  0.0  1.0      0.0          1.0   \n",
       "219      0.0       1.0                  1.0  0.0      0.0          0.0   \n",
       "237      0.0       0.0                  0.0  1.0      0.0          0.0   \n",
       "..       ...       ...                  ...  ...      ...          ...   \n",
       "156      1.0       0.0                  0.0  0.0      0.0          0.0   \n",
       "226      1.0       0.0                  0.0  1.0      1.0          0.0   \n",
       "272      0.0       0.0                  0.0  0.0      0.0          0.0   \n",
       "27       0.0       1.0                  1.0  1.0      1.0          1.0   \n",
       "144      1.0       0.0                  1.0  1.0      1.0          1.0   \n",
       "\n",
       "        age  creatinine_phosphokinase  ejection_fraction  platelets  \\\n",
       "id                                                                    \n",
       "206  40.000                     101.0               40.0   226000.0   \n",
       "188  60.667                     151.0               40.0   201000.0   \n",
       "12   45.000                     981.0               30.0   136000.0   \n",
       "219  55.000                     582.0               35.0   371000.0   \n",
       "237  70.000                     232.0               30.0   173000.0   \n",
       "..      ...                       ...                ...        ...   \n",
       "156  52.000                      58.0               35.0   277000.0   \n",
       "226  58.000                      57.0               25.0   189000.0   \n",
       "272  67.000                     213.0               38.0   215000.0   \n",
       "27   70.000                     122.0               45.0   284000.0   \n",
       "144  72.000                     943.0               25.0   338000.0   \n",
       "\n",
       "     serum_creatinine  serum_sodium   time  \n",
       "id                                          \n",
       "206               0.8         141.0  187.0  \n",
       "188               1.0         136.0  172.0  \n",
       "12                1.1         137.0   11.0  \n",
       "219               0.7         140.0  197.0  \n",
       "237               1.2         132.0  210.0  \n",
       "..                ...           ...    ...  \n",
       "156               1.4         136.0  120.0  \n",
       "226               1.3         132.0  205.0  \n",
       "272               1.2         133.0  245.0  \n",
       "27                1.3         136.0   26.0  \n",
       "144               1.7         139.0  111.0  \n",
       "\n",
       "[74 rows x 13 columns]"
      ]
     },
     "execution_count": 35,
     "metadata": {},
     "output_type": "execute_result"
    }
   ],
   "source": []
  },
  {
   "cell_type": "markdown",
   "metadata": {},
   "source": [
    "# Instructions\n",
    "- Write the train data set to `./data/features.train.csv`\n",
    "- Write the train data set to `./data/features.test.csv`"
   ]
  },
  {
   "cell_type": "code",
   "execution_count": 36,
   "metadata": {},
   "outputs": [],
   "source": []
  },
  {
   "cell_type": "code",
   "execution_count": 37,
   "metadata": {
    "tags": []
   },
   "outputs": [],
   "source": []
  }
 ],
 "metadata": {
  "kernelspec": {
   "display_name": "Python 3 (ipykernel)",
   "language": "python",
   "name": "python3"
  },
  "language_info": {
   "codemirror_mode": {
    "name": "ipython",
    "version": 3
   },
   "file_extension": ".py",
   "mimetype": "text/x-python",
   "name": "python",
   "nbconvert_exporter": "python",
   "pygments_lexer": "ipython3",
   "version": "3.11.5"
  }
 },
 "nbformat": 4,
 "nbformat_minor": 4
}
